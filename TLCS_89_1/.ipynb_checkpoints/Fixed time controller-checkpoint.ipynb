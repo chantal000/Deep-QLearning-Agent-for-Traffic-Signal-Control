{
 "cells": [
  {
   "cell_type": "code",
   "execution_count": 1,
   "metadata": {},
   "outputs": [],
   "source": [
    "from __future__ import absolute_import\n",
    "from __future__ import print_function\n",
    "\n",
    "import os\n",
    "import datetime\n",
    "from shutil import copyfile"
   ]
  },
  {
   "cell_type": "code",
   "execution_count": 2,
   "metadata": {},
   "outputs": [],
   "source": [
    "from utils import import_test_configuration, set_sumo, set_test_path, set_train_path\n",
    "from fixed_time import *\n",
    "\n",
    "from generator import TrafficGenerator\n",
    "from visualization import Visualization"
   ]
  },
  {
   "cell_type": "code",
   "execution_count": 3,
   "metadata": {},
   "outputs": [
    {
     "name": "stdout",
     "output_type": "stream",
     "text": [
      "\n",
      "----- Test Episode 1 of 3\n",
      "Simulating...\n",
      "Simulation time: 17.2 s\n",
      "\n",
      "----- Test Episode 2 of 3\n",
      "Simulating...\n",
      "Simulation time: 16.2 s\n",
      "\n",
      "----- Test Episode 3 of 3\n",
      "Simulating...\n",
      "Simulation time: 15.8 s\n",
      "\n",
      "----- Start time: 2020-06-12 18:00:11.617903\n",
      "----- End time: 2020-06-12 18:01:00.776102\n",
      "----- Testing info saved at: C:\\Users\\Chantal\\Documents\\Deep-QLearning-Agent-for-Traffic-Signal-Control\\TLCS\\models\\model_240\\\n"
     ]
    }
   ],
   "source": [
    "\n",
    "\n",
    "\n",
    "if __name__ == \"__main__\":\n",
    "    config = import_test_configuration(config_file='testing_settings.ini')\n",
    "    sumo_cmd = set_sumo(config['gui'], config['sumocfg_file_name'], config['max_steps'])\n",
    "#     model_path, plot_path = set_test_path(config['models_path_name'], config['model_to_test'])\n",
    "    plot_path = set_train_path(config['models_path_name'])\n",
    "    \n",
    "    \n",
    "    #PARAMETERS\n",
    "    fixed_green_time = 30\n",
    "    \n",
    "    \n",
    "    \n",
    "    TrafficGen = TrafficGenerator(\n",
    "        config['max_steps'], \n",
    "        config['penetration_rate']\n",
    "    )\n",
    "    \n",
    "    \n",
    "    Visualization = Visualization(\n",
    "        plot_path, \n",
    "        dpi=96\n",
    "    )\n",
    "    \n",
    "    \n",
    "    Simulation = FixedTimeTestSimulation(\n",
    "        TrafficGen,\n",
    "        sumo_cmd,\n",
    "        config['max_steps'],\n",
    "        fixed_green_time,\n",
    "        config['yellow_duration'],\n",
    "        config['num_actions'],\n",
    "        config['scenario_number']\n",
    "    )\n",
    "    \n",
    "    episode = 0\n",
    "    timestamp_start = datetime.datetime.now()\n",
    "    \n",
    "    \n",
    "\n",
    "    \n",
    "    while episode < config['total_episodes']:\n",
    "        print('\\n----- Test Episode', str(episode+1), 'of', str(config['total_episodes']))\n",
    "        \n",
    "        #run simulation + train for one episode at a time\n",
    "        simulation_time = Simulation.run(episode * 10000)  # run the simulation (with a guaranteed different seed than in training)\n",
    "        print('Simulation time:', simulation_time, 's')\n",
    "        episode += 1\n",
    "\n",
    "    print(\"\\n----- Start time:\", timestamp_start)\n",
    "    print(\"----- End time:\", datetime.datetime.now())\n",
    "    \n",
    "    print(\"----- Testing info saved at:\", plot_path)\n",
    "\n",
    "    copyfile(src='testing_settings.ini', dst=os.path.join(plot_path, 'testing_settings.ini'))\n",
    "\n",
    "\n",
    "    \n",
    "    Visualization.testing_save_data_and_plot(data=Simulation.delay_all_episodes, filename='cumulative_delay', xlabel='Simulation step', ylabel='Cumulative vehicle delay [s]')\n",
    "    Visualization.testing_save_data_and_plot(data=Simulation.queue_length_all_episodes, filename='queue_length', xlabel='Simulation step', ylabel='Cumulative queue length [vehicles]')\n",
    "    Visualization.testing_save_data_and_plot(data=Simulation.wait_all_episodes, filename='cumulative_wait', xlabel='Simulation step', ylabel='Cumulative waiting time [s]')\n",
    "\n",
    "    "
   ]
  }
 ],
 "metadata": {
  "kernelspec": {
   "display_name": "Python 3",
   "language": "python",
   "name": "python3"
  },
  "language_info": {
   "codemirror_mode": {
    "name": "ipython",
    "version": 3
   },
   "file_extension": ".py",
   "mimetype": "text/x-python",
   "name": "python",
   "nbconvert_exporter": "python",
   "pygments_lexer": "ipython3",
   "version": "3.7.7"
  }
 },
 "nbformat": 4,
 "nbformat_minor": 4
}
