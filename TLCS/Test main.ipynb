{
 "cells": [
  {
   "cell_type": "code",
   "execution_count": 1,
   "metadata": {},
   "outputs": [
    {
     "name": "stdout",
     "output_type": "stream",
     "text": [
      "\n",
      "----- Test episode\n",
      "Simulating...\n",
      "Total reward: -256546.0\n",
      "Simulation time: 222.6 s\n",
      "----- Testing info saved at: C:\\Users\\Chantal\\Documents\\Deep-QLearning-Agent-for-Traffic-Signal-Control\\TLCS\\models\\model_183\\test\\\n"
     ]
    }
   ],
   "source": [
    "from __future__ import absolute_import\n",
    "from __future__ import print_function\n",
    "\n",
    "import os\n",
    "from shutil import copyfile\n",
    "\n",
    "from simulation import Simulation, TestSimulation\n",
    "from generator import TrafficGenerator\n",
    "from model import TestModel\n",
    "from visualization import Visualization\n",
    "from utils import import_test_configuration, set_sumo, set_test_path\n",
    "\n",
    "\n",
    "if __name__ == \"__main__\":\n",
    "\n",
    "    config = import_test_configuration(config_file='testing_settings.ini')\n",
    "    sumo_cmd = set_sumo(config['gui'], config['sumocfg_file_name'], config['max_steps'])\n",
    "    model_path, plot_path = set_test_path(config['models_path_name'], config['model_to_test'])\n",
    "\n",
    "    \n",
    "    \n",
    "    #SET PARAMETERS\n",
    "    number_of_cells_per_lane = 10\n",
    "    state_shape = (number_of_cells_per_lane, 8, 1)\n",
    "    \n",
    "    \n",
    "    \n",
    "    Model = TestModel(\n",
    "        model_path=model_path,\n",
    "        state_shape=state_shape\n",
    "    )\n",
    "\n",
    "    TrafficGen = TrafficGenerator(\n",
    "        config['max_steps'], \n",
    "        config['n_cars_generated'],\n",
    "        config['penetration_rate']\n",
    "    )\n",
    "\n",
    "    Visualization = Visualization(\n",
    "        plot_path, \n",
    "        dpi=96\n",
    "    )\n",
    "        \n",
    "    Simulation = TestSimulation(\n",
    "        Model,\n",
    "        TrafficGen,\n",
    "        sumo_cmd,\n",
    "        config['max_steps'],\n",
    "        config['green_duration'],\n",
    "        config['yellow_duration'],\n",
    "        config['num_actions'],\n",
    "        config['scenario_number']\n",
    "    )\n",
    "\n",
    "    print('\\n----- Test episode')\n",
    "    simulation_time = Simulation.run(config['episode_seed'])  # run the simulation\n",
    "    print('Simulation time:', simulation_time, 's')\n",
    "\n",
    "    print(\"----- Testing info saved at:\", plot_path)\n",
    "\n",
    "    copyfile(src='testing_settings.ini', dst=os.path.join(plot_path, 'testing_settings.ini'))\n",
    "\n",
    "    Visualization.save_data_and_plot(data=Simulation.reward_episode, filename='reward', xlabel='Action step', ylabel='Reward')\n",
    "    Visualization.save_data_and_plot(data=Simulation.queue_length_episode, filename='queue', xlabel='Step', ylabel='Queue length [vehicles]')\n"
   ]
  },
  {
   "cell_type": "code",
   "execution_count": null,
   "metadata": {},
   "outputs": [],
   "source": []
  }
 ],
 "metadata": {
  "kernelspec": {
   "display_name": "Python 3",
   "language": "python",
   "name": "python3"
  },
  "language_info": {
   "codemirror_mode": {
    "name": "ipython",
    "version": 3
   },
   "file_extension": ".py",
   "mimetype": "text/x-python",
   "name": "python",
   "nbconvert_exporter": "python",
   "pygments_lexer": "ipython3",
   "version": "3.7.7"
  }
 },
 "nbformat": 4,
 "nbformat_minor": 4
}
