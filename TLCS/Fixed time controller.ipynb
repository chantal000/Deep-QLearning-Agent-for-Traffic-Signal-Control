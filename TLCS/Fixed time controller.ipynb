{
 "cells": [
  {
   "cell_type": "code",
   "execution_count": 1,
   "metadata": {},
   "outputs": [],
   "source": [
    "from __future__ import absolute_import\n",
    "from __future__ import print_function\n",
    "\n",
    "import os\n",
    "import datetime\n",
    "from shutil import copyfile"
   ]
  },
  {
   "cell_type": "code",
   "execution_count": 2,
   "metadata": {},
   "outputs": [],
   "source": [
    "from utils import import_test_configuration, set_sumo, set_test_path, set_train_path\n",
    "from fixed_time import *\n",
    "\n",
    "from generator import TrafficGenerator\n",
    "from visualization import Visualization"
   ]
  },
  {
   "cell_type": "code",
   "execution_count": 3,
   "metadata": {},
   "outputs": [
    {
     "name": "stdout",
     "output_type": "stream",
     "text": [
      "\n",
      "----- Test episode\n",
      "Simulating...\n",
      "Simulation time: 35.5 s\n",
      "----- Testing info saved at: C:\\Users\\Chantal\\Documents\\Deep-QLearning-Agent-for-Traffic-Signal-Control\\TLCS\\models\\model_182\\\n"
     ]
    }
   ],
   "source": [
    "\n",
    "\n",
    "\n",
    "if __name__ == \"__main__\":\n",
    "    config = import_test_configuration(config_file='testing_settings.ini')\n",
    "    sumo_cmd = set_sumo(config['gui'], config['sumocfg_file_name'], config['max_steps'])\n",
    "#     model_path, plot_path = set_test_path(config['models_path_name'], config['model_to_test'])\n",
    "    plot_path = set_train_path(config['models_path_name'])\n",
    "    \n",
    "    \n",
    "    #PARAMETERS\n",
    "    fixed_green_time = 30\n",
    "    scenario_number = 0\n",
    "    \n",
    "    \n",
    "    \n",
    "    TrafficGen = TrafficGenerator(\n",
    "        config['max_steps'], \n",
    "        config['n_cars_generated'],\n",
    "        config['penetration_rate']\n",
    "    )\n",
    "    \n",
    "    \n",
    "    Visualization = Visualization(\n",
    "        plot_path, \n",
    "        dpi=96\n",
    "    )\n",
    "    \n",
    "    \n",
    "    Simulation = FixedTimeTestSimulation(\n",
    "        TrafficGen,\n",
    "        sumo_cmd,\n",
    "        config['max_steps'],\n",
    "        fixed_green_time,\n",
    "        config['yellow_duration'],\n",
    "        config['num_actions'],\n",
    "        scenario_number\n",
    "    )\n",
    "    \n",
    "    \n",
    "    print('\\n----- Test episode')\n",
    "    simulation_time = Simulation.run(config['episode_seed'])  # run the simulation\n",
    "    print('Simulation time:', simulation_time, 's')\n",
    "\n",
    "    print(\"----- Testing info saved at:\", plot_path)\n",
    "\n",
    "    copyfile(src='testing_settings.ini', dst=os.path.join(plot_path, 'testing_settings.ini'))\n",
    "\n",
    "#     Visualization.save_data_and_plot(data=Simulation.reward_episode, filename='reward', xlabel='Action step', ylabel='Reward')\n",
    "    Visualization.save_data_and_plot(data=Simulation.queue_length_episode, filename='queue', xlabel='Step', ylabel='Queue lenght (vehicles)')\n",
    "\n",
    "    "
   ]
  },
  {
   "cell_type": "code",
   "execution_count": null,
   "metadata": {},
   "outputs": [],
   "source": []
  },
  {
   "cell_type": "code",
   "execution_count": null,
   "metadata": {},
   "outputs": [],
   "source": []
  },
  {
   "cell_type": "code",
   "execution_count": null,
   "metadata": {},
   "outputs": [],
   "source": []
  },
  {
   "cell_type": "code",
   "execution_count": 21,
   "metadata": {},
   "outputs": [
    {
     "name": "stdout",
     "output_type": "stream",
     "text": [
      "85\n",
      "\n"
     ]
    }
   ],
   "source": [
    "queue = open(\"C:/Users/Chantal/Documents/Deep-QLearning-Agent-for-Traffic-Signal-Control/TLCS/models/model_177/plot_queue_data.txt\").readlines()\n",
    "\n"
   ]
  },
  {
   "cell_type": "code",
   "execution_count": 15,
   "metadata": {},
   "outputs": [
    {
     "name": "stdout",
     "output_type": "stream",
     "text": [
      "0 5400\n"
     ]
    },
    {
     "data": {
      "image/png": "[encoded data removed]",
      "text/plain": [
       "<Figure size 432x288 with 1 Axes>"
      ]
     },
     "metadata": {
      "needs_background": "light"
     },
     "output_type": "display_data"
    }
   ],
   "source": [
    "import numpy as np\n",
    "import math\n",
    "import matplotlib.pyplot as plt\n",
    "\n",
    "# timings = np.random.uniform(0,5400, 1000)\n",
    "# timings = np.random.weibull(2, 1000)\n",
    "\n",
    "timings = np.linspace(0, 5400, num=2000)\n",
    "# print(len(timings))\n",
    "# print(timings)\n",
    "timings = np.sort(timings)\n",
    "\n",
    "# reshape the distribution to fit the interval 0:max_steps\n",
    "car_gen_steps = []\n",
    "min_old = math.floor(timings[0])\n",
    "max_old = math.ceil(timings[-1])\n",
    "\n",
    "print(min_old, max_old)\n",
    "\n",
    "min_new = 0\n",
    "max_new = 5400\n",
    "for value in timings:\n",
    "    car_gen_steps = np.append(car_gen_steps, ((max_new - min_new) / (max_old - min_old)) * (value - max_old) + max_new)\n",
    "\n",
    "car_gen_steps = np.rint(car_gen_steps)  # round every value to int -> effective steps when a car will be generated\n",
    "\n",
    "# print(car_gen_steps)\n",
    "\n",
    "plt.figure()\n",
    "plt.hist(car_gen_steps, bins = 25)\n",
    "# plt.yticks(np.arange(0, 25, 3))\n",
    "plt.yticks(np.arange(0, 300, 25))\n",
    "plt.grid()\n",
    "# plt.plot(queue)\n",
    "\n",
    "plt.show()"
   ]
  },
  {
   "cell_type": "code",
   "execution_count": 39,
   "metadata": {},
   "outputs": [
    {
     "name": "stdout",
     "output_type": "stream",
     "text": [
      "[ 124.  137.  137.  167.  182.  187.  193.  198.  199.  200.  206.  208.\n",
      "  211.  221.  229.  232.  238.  239.  241.  251.  254.  261.  266.  267.\n",
      "  270.  273.  274.  289.  295.  297.  301.  302.  315.  325.  334.  336.\n",
      "  347.  347.  353.  354.  355.  367.  376.  382.  383.  386.  387.  389.\n",
      "  393.  394.  394.  397.  405.  413.  416.  417.  418.  419.  419.  433.\n",
      "  434.  442.  442.  445.  453.  454.  455.  455.  456.  462.  475.  481.\n",
      "  482.  482.  489.  497.  498.  501.  523.  527.  529.  537.  537.  539.\n",
      "  539.  546.  547.  548.  555.  559.  561.  568.  571.  571.  576.  578.\n",
      "  579.  581.  581.  583.  589.  594.  596.  597.  598.  603.  603.  604.\n",
      "  610.  615.  619.  619.  623.  623.  629.  631.  632.  635.  638.  638.\n",
      "  640.  643.  644.  645.  646.  647.  647.  647.  647.  652.  653.  654.\n",
      "  657.  658.  659.  662.  666.  667.  668.  669.  674.  675.  676.  681.\n",
      "  682.  682.  682.  691.  697.  698.  698.  699.  699.  700.  702.  704.\n",
      "  708.  708.  708.  711.  718.  719.  719.  720.  730.  731.  732.  733.\n",
      "  733.  734.  737.  738.  743.  744.  745.  745.  752.  752.  758.  759.\n",
      "  762.  763.  767.  768.  772.  775.  777.  784.  786.  787.  793.  794.\n",
      "  802.  803.  805.  806.  809.  811.  814.  815.  818.  819.  821.  823.\n",
      "  825.  826.  833.  842.  844.  847.  853.  853.  853.  856.  857.  857.\n",
      "  864.  865.  867.  868.  873.  877.  878.  878.  879.  882.  887.  889.\n",
      "  892.  894.  895.  896.  897.  900.  900.  901.  905.  918.  926.  927.\n",
      "  929.  932.  933.  934.  935.  935.  936.  937.  938.  939.  942.  945.\n",
      "  945.  945.  946.  946.  947.  948.  951.  954.  957.  959.  966.  967.\n",
      "  968.  968.  970.  971.  976.  977.  978.  980.  980.  981.  983.  983.\n",
      "  984.  984.  986.  988.  990.  993.  994.  997. 1000. 1005. 1005. 1005.\n",
      " 1005. 1008. 1010. 1012. 1012. 1013. 1013. 1013. 1013. 1016. 1020. 1022.\n",
      " 1025. 1025. 1025. 1031. 1036. 1038. 1039. 1042. 1042. 1045. 1048. 1051.\n",
      " 1051. 1054. 1057. 1059. 1059. 1062. 1065. 1068. 1070. 1070. 1075. 1076.\n",
      " 1078. 1079. 1082. 1088. 1090. 1090. 1091. 1093. 1093. 1096. 1102. 1105.\n",
      " 1106. 1107. 1109. 1110. 1112. 1114. 1117. 1118. 1122. 1125. 1125. 1127.\n",
      " 1128. 1128. 1131. 1134. 1134. 1137. 1139. 1140. 1141. 1143. 1144. 1146.\n",
      " 1148. 1149. 1150. 1150. 1154. 1154. 1160. 1163. 1163. 1167. 1173. 1173.\n",
      " 1175. 1177. 1185. 1187. 1188. 1188. 1190. 1190. 1191. 1195. 1197. 1202.\n",
      " 1209. 1212. 1213. 1214. 1215. 1218. 1220. 1220. 1222. 1224. 1226. 1226.\n",
      " 1230. 1232. 1233. 1236. 1239. 1243. 1243. 1244. 1252. 1253. 1256. 1257.\n",
      " 1259. 1259. 1260. 1263. 1264. 1265. 1266. 1267. 1267. 1268. 1269. 1271.\n",
      " 1278. 1281. 1281. 1285. 1292. 1294. 1296. 1298. 1299. 1302. 1306. 1306.\n",
      " 1308. 1310. 1311. 1313. 1314. 1315. 1318. 1320. 1320. 1327. 1327. 1332.\n",
      " 1335. 1336. 1337. 1340. 1344. 1349. 1352. 1355. 1356. 1361. 1364. 1365.\n",
      " 1366. 1366. 1369. 1374. 1375. 1376. 1379. 1386. 1387. 1390. 1392. 1393.\n",
      " 1394. 1394. 1395. 1396. 1398. 1400. 1404. 1404. 1413. 1414. 1414. 1419.\n",
      " 1419. 1421. 1422. 1423. 1426. 1430. 1430. 1433. 1433. 1435. 1437. 1437.\n",
      " 1443. 1446. 1447. 1448. 1453. 1455. 1457. 1461. 1461. 1462. 1464. 1467.\n",
      " 1473. 1474. 1481. 1481. 1483. 1484. 1488. 1491. 1491. 1495. 1496. 1499.\n",
      " 1501. 1502. 1502. 1507. 1508. 1511. 1512. 1512. 1514. 1517. 1518. 1523.\n",
      " 1532. 1533. 1539. 1547. 1549. 1557. 1560. 1561. 1564. 1566. 1568. 1570.\n",
      " 1570. 1570. 1571. 1572. 1579. 1581. 1582. 1583. 1587. 1589. 1589. 1589.\n",
      " 1589. 1590. 1590. 1592. 1593. 1595. 1596. 1602. 1603. 1607. 1607. 1607.\n",
      " 1608. 1608. 1609. 1611. 1612. 1620. 1620. 1622. 1626. 1627. 1628. 1629.\n",
      " 1629. 1633. 1635. 1636. 1638. 1641. 1643. 1651. 1651. 1651. 1655. 1657.\n",
      " 1663. 1665. 1665. 1665. 1667. 1669. 1669. 1676. 1676. 1676. 1676. 1681.\n",
      " 1685. 1685. 1685. 1687. 1690. 1691. 1692. 1695. 1696. 1697. 1698. 1698.\n",
      " 1701. 1703. 1708. 1708. 1709. 1712. 1713. 1716. 1717. 1718. 1719. 1720.\n",
      " 1722. 1723. 1729. 1730. 1730. 1735. 1739. 1742. 1745. 1747. 1748. 1757.\n",
      " 1763. 1767. 1767. 1768. 1778. 1793. 1807. 1808. 1814. 1815. 1817. 1818.\n",
      " 1820. 1820. 1821. 1831. 1833. 1839. 1839. 1839. 1841. 1842. 1842. 1844.\n",
      " 1845. 1846. 1846. 1850. 1853. 1853. 1855. 1860. 1860. 1861. 1861. 1861.\n",
      " 1863. 1866. 1869. 1869. 1872. 1872. 1876. 1878. 1887. 1888. 1890. 1892.\n",
      " 1892. 1899. 1907. 1908. 1909. 1912. 1912. 1927. 1932. 1932. 1934. 1935.\n",
      " 1935. 1936. 1937. 1944. 1945. 1945. 1945. 1947. 1947. 1951. 1959. 1975.\n",
      " 1977. 1977. 1979. 1984. 1988. 1989. 1995. 1996. 2005. 2010. 2028. 2030.\n",
      " 2034. 2035. 2037. 2039. 2043. 2045. 2051. 2054. 2057. 2057. 2058. 2063.\n",
      " 2063. 2063. 2071. 2073. 2076. 2077. 2078. 2078. 2086. 2088. 2090. 2092.\n",
      " 2098. 2099. 2100. 2108. 2109. 2110. 2112. 2113. 2116. 2116. 2117. 2128.\n",
      " 2129. 2130. 2133. 2141. 2144. 2145. 2146. 2148. 2153. 2155. 2160. 2166.\n",
      " 2173. 2180. 2182. 2184. 2187. 2187. 2190. 2190. 2195. 2197. 2199. 2202.\n",
      " 2206. 2212. 2215. 2217. 2218. 2222. 2228. 2229. 2229. 2239. 2243. 2246.\n",
      " 2247. 2250. 2255. 2255. 2259. 2262. 2265. 2266. 2267. 2269. 2270. 2272.\n",
      " 2277. 2279. 2279. 2280. 2281. 2285. 2288. 2289. 2295. 2295. 2295. 2297.\n",
      " 2303. 2304. 2306. 2306. 2318. 2324. 2326. 2327. 2330. 2333. 2336. 2347.\n",
      " 2349. 2359. 2360. 2360. 2362. 2371. 2379. 2389. 2392. 2398. 2400. 2400.\n",
      " 2402. 2402. 2405. 2407. 2408. 2409. 2409. 2423. 2427. 2436. 2438. 2446.\n",
      " 2452. 2453. 2455. 2463. 2466. 2467. 2471. 2473. 2475. 2476. 2487. 2499.\n",
      " 2501. 2502. 2506. 2507. 2513. 2517. 2521. 2522. 2528. 2550. 2551. 2553.\n",
      " 2567. 2571. 2577. 2578. 2595. 2608. 2608. 2612. 2615. 2619. 2620. 2621.\n",
      " 2627. 2631. 2633. 2649. 2657. 2659. 2678. 2684. 2696. 2710. 2718. 2718.\n",
      " 2719. 2720. 2722. 2733. 2736. 2736. 2750. 2755. 2761. 2761. 2774. 2776.\n",
      " 2776. 2785. 2793. 2795. 2797. 2801. 2803. 2807. 2807. 2809. 2819. 2826.\n",
      " 2828. 2844. 2848. 2854. 2856. 2858. 2863. 2872. 2905. 2910. 2945. 2951.\n",
      " 2955. 2957. 2959. 2960. 2961. 2964. 2968. 2969. 2971. 2984. 2986. 3001.\n",
      " 3023. 3030. 3032. 3045. 3045. 3052. 3053. 3056. 3065. 3074. 3077. 3078.\n",
      " 3098. 3106. 3115. 3128. 3140. 3141. 3159. 3161. 3164. 3184. 3186. 3187.\n",
      " 3188. 3191. 3200. 3220. 3246. 3254. 3272. 3275. 3286. 3334. 3416. 3427.\n",
      " 3431. 3488. 3508. 3564. 3618. 3631. 3640. 3650. 3662. 3704. 3718. 3728.\n",
      " 3810. 3876. 4043. 4515.]\n"
     ]
    }
   ],
   "source": [
    "print(car_gen_steps)"
   ]
  },
  {
   "cell_type": "code",
   "execution_count": 16,
   "metadata": {},
   "outputs": [
    {
     "data": {
      "image/png": "[encoded data removed]",
      "text/plain": [
       "<Figure size 432x288 with 1 Axes>"
      ]
     },
     "metadata": {
      "needs_background": "light"
     },
     "output_type": "display_data"
    }
   ],
   "source": [
    "import numpy as np\n",
    "import math\n",
    "import matplotlib.pyplot as plt\n",
    "\n",
    "# timings = np.random.uniform(0,5400, 1000)\n",
    "timings = np.random.weibull(2, 2000)\n",
    "\n",
    "# timings = np.linspace(0, 5400, num=7000)\n",
    "# print(len(timings))\n",
    "# print(timings)\n",
    "timings = np.sort(timings)\n",
    "\n",
    "# reshape the distribution to fit the interval 0:max_steps\n",
    "car_gen_steps = []\n",
    "min_old = math.floor(timings[0])\n",
    "max_old = math.ceil(timings[-1])\n",
    "\n",
    "\n",
    "min_new = 0\n",
    "max_new = 5400\n",
    "for value in timings:\n",
    "    car_gen_steps = np.append(car_gen_steps, ((max_new - min_new) / (max_old - min_old)) * (value - max_old) + max_new)\n",
    "\n",
    "car_gen_steps = np.rint(car_gen_steps)  # round every value to int -> effective steps when a car will be generated\n",
    "\n",
    "\n",
    "#-------plotting\n",
    "\n",
    "\n",
    "\n",
    "\n",
    "\n",
    "fig,ax = plt.subplots()\n",
    "\n",
    "ax.hist(car_gen_steps, bins = 25, color ='red')\n",
    "# # set x-axis label\n",
    "ax.set_xlabel(\"time\",fontsize=14)\n",
    "# # set y-axis label\n",
    "ax.set_ylabel(\"number of cars\",color=\"red\",fontsize=14)\n",
    "plt.yticks(np.arange(0, 300, 25))\n",
    "plt.grid()\n",
    "plt.show()\n",
    "\n",
    "# twin object for two different y-axis on the sample plot\n",
    "# ax2=ax.twinx()\n",
    "# ax2.plot(queue,color=\"blue\")\n",
    "# ax2.set_ylabel(\"queue length\",color=\"blue\",fontsize=14)\n",
    "# plt.show()\n",
    "\n",
    "\n"
   ]
  },
  {
   "cell_type": "code",
   "execution_count": 80,
   "metadata": {},
   "outputs": [
    {
     "name": "stdout",
     "output_type": "stream",
     "text": [
      "1250\n",
      "1494.0\n"
     ]
    }
   ],
   "source": [
    "print(int(len(car_gen_steps)/2))\n",
    "\n",
    "print(car_gen_steps[int(len(car_gen_steps)/2)])"
   ]
  },
  {
   "cell_type": "code",
   "execution_count": null,
   "metadata": {},
   "outputs": [],
   "source": []
  },
  {
   "cell_type": "code",
   "execution_count": null,
   "metadata": {},
   "outputs": [],
   "source": []
  }
 ],
 "metadata": {
  "kernelspec": {
   "display_name": "Python 3",
   "language": "python",
   "name": "python3"
  },
  "language_info": {
   "codemirror_mode": {
    "name": "ipython",
    "version": 3
   },
   "file_extension": ".py",
   "mimetype": "text/x-python",
   "name": "python",
   "nbconvert_exporter": "python",
   "pygments_lexer": "ipython3",
   "version": "3.7.7"
  }
 },
 "nbformat": 4,
 "nbformat_minor": 4
}
