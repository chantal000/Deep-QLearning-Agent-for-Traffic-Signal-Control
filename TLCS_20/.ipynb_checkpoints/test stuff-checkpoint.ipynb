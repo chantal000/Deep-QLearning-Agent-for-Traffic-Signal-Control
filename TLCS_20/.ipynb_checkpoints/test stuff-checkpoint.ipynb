{
 "cells": [
  {
   "cell_type": "code",
   "execution_count": 1,
   "metadata": {},
   "outputs": [],
   "source": [
    "import numpy as np\n",
    "import sys\n",
    "\n",
    "from tensorflow import keras\n",
    "from tensorflow.keras import layers\n",
    "from tensorflow.keras import losses\n",
    "from tensorflow.keras.optimizers import Adam\n",
    "from tensorflow.keras.utils import plot_model\n",
    "from tensorflow.keras.models import load_model"
   ]
  },
  {
   "cell_type": "code",
   "execution_count": 2,
   "metadata": {},
   "outputs": [],
   "source": [
    "class TrainModel:\n",
    "    def __init__(self, num_layers, width, batch_size, learning_rate, input_dim, output_dim, input_shape):\n",
    "        self._input_dim = input_dim  #old, should be deleted everywhere + code adjusted + config changed\n",
    "        self._input_shape = input_shape\n",
    "        self._output_dim = output_dim\n",
    "        self._batch_size = batch_size\n",
    "        self._learning_rate = learning_rate\n",
    "        self._model = self._build_model(num_layers, width)\n",
    "        \n",
    "\n",
    "class RNNTrainModel(TrainModel):\n",
    "    def __init__(self, num_layers, width, batch_size, learning_rate, input_dim, output_dim, input_shape, sequence_length):\n",
    "        self._sequence_length = sequence_length\n",
    "        super().__init__(num_layers, width, batch_size, learning_rate, input_dim, output_dim, input_shape)\n",
    "    \n",
    "    \n",
    "    def _build_model(self, num_layers, width):\n",
    "        \"\"\"\n",
    "        Build and compile a deep neural network with convolution as LSTM\n",
    "        \"\"\"\n",
    "        \n",
    "        self._input_shape =  (self._sequence_length,) + self._input_shape\n",
    "        \n",
    "        \n",
    "        #input layer\n",
    "        inputs = keras.Input(shape = self._input_shape)\n",
    "                \n",
    "        #convolutional layers\n",
    "        c1 = layers.TimeDistributed(layers.Conv2D(filters = 128, kernel_size = 4, strides = (2,2), padding = \"same\", activation = 'relu'))(inputs)\n",
    "        c2 = layers.TimeDistributed(layers.Conv2D(filters = 128, kernel_size = 4, strides = (2,2), padding = \"same\", activation = 'relu'))(c1)\n",
    "        c3 = layers.TimeDistributed(layers.Conv2D(filters = 64, kernel_size = 2, strides = (1,1), padding = \"same\", activation = 'relu'))(c2)\n",
    "        flat = layers.TimeDistributed(layers.Flatten())(c3)\n",
    "        lstm = layers.LSTM(96, activation='tanh')(flat)\n",
    "        dense = layers.Dense(16, activation='relu')(lstm)\n",
    "        outputs = layers.Dense(self._output_dim, activation='linear')(dense)\n",
    "        \n",
    "        \n",
    "        model = keras.Model(inputs = inputs, outputs = dense, name='CNN_with_LSTM')\n",
    "        model.compile(loss=losses.mean_squared_error, optimizer=Adam(lr=self._learning_rate))\n",
    "        \n",
    "        # model.summary()\n",
    "        return model\n",
    "\n",
    "\n",
    "    \n",
    "num_layers=4 \n",
    "width=4\n",
    "batch_size=100\n",
    "learning_rate= 0.001\n",
    "input_dim=20\n",
    "output_dim= 4\n",
    "sequence_length= 8\n",
    "\n",
    "number_of_cells_per_lane = 10\n",
    "input_shape = (number_of_cells_per_lane, 8, 1)\n",
    "\n",
    "\n",
    "\n",
    "Model = RNNTrainModel(num_layers, width, batch_size, learning_rate, input_dim, output_dim, input_shape, sequence_length)"
   ]
  },
  {
   "cell_type": "code",
   "execution_count": null,
   "metadata": {},
   "outputs": [],
   "source": []
  },
  {
   "cell_type": "code",
   "execution_count": null,
   "metadata": {},
   "outputs": [],
   "source": []
  },
  {
   "cell_type": "code",
   "execution_count": null,
   "metadata": {},
   "outputs": [],
   "source": []
  },
  {
   "cell_type": "code",
   "execution_count": null,
   "metadata": {},
   "outputs": [],
   "source": []
  },
  {
   "cell_type": "code",
   "execution_count": 3,
   "metadata": {},
   "outputs": [
    {
     "name": "stdout",
     "output_type": "stream",
     "text": [
      "[0.0, 0.1, 0.2, 0.3, 0.4, 0.5, 0.6, 0.7, 0.8, 0.9]\n",
      "     0    0\n",
      "1  0.0  0.1\n",
      "2  0.1  0.2\n",
      "3  0.2  0.3\n",
      "4  0.3  0.4\n",
      "5  0.4  0.5\n",
      "6  0.5  0.6\n",
      "7  0.6  0.7\n",
      "8  0.7  0.8\n",
      "9  0.8  0.9\n",
      "[[[0. ]]\n",
      "\n",
      " [[0.1]]\n",
      "\n",
      " [[0.2]]\n",
      "\n",
      " [[0.3]]\n",
      "\n",
      " [[0.4]]\n",
      "\n",
      " [[0.5]]\n",
      "\n",
      " [[0.6]]\n",
      "\n",
      " [[0.7]]\n",
      "\n",
      " [[0.8]]]\n",
      "[0.1 0.2 0.3 0.4 0.5 0.6 0.7 0.8 0.9]\n"
     ]
    }
   ],
   "source": [
    "from tensorflow import keras\n",
    "from pandas import DataFrame\n",
    "from pandas import concat\n",
    "from tensorflow.keras.models import Sequential\n",
    "from tensorflow.keras.layers import Dense\n",
    "from tensorflow.keras.layers import LSTM\n",
    "\n",
    "# create sequence\n",
    "length = 10\n",
    "sequence = [i/float(length) for i in range(length)]\n",
    "print(sequence)\n",
    "\n",
    "# create X/y pairs\n",
    "df = DataFrame(sequence)\n",
    "df = concat([df.shift(1), df], axis=1)\n",
    "df.dropna(inplace=True)\n",
    "\n",
    "print(df)\n",
    "\n",
    "# convert to LSTM friendly format\n",
    "values = df.values\n",
    "X, y = values[:, 0], values[:, 1]\n",
    "X = X.reshape(len(X), 1, 1)\n",
    "\n",
    "print(X)\n",
    "print(y)\n",
    "\n",
    "# # 1. define network\n",
    "# model = Sequential()\n",
    "# model.add(LSTM(10, input_shape=(1,1)))\n",
    "# model.add(Dense(1))\n",
    "\n",
    "# # 2. compile network\n",
    "# model.compile(optimizer='adam', loss='mean_squared_error')\n",
    "# # 3. fit network\n",
    "# history = model.fit(X, y, epochs=1000, batch_size=len(X), verbose=0)\n",
    "# # 4. evaluate network\n",
    "# loss = model.evaluate(X, y, verbose=0)\n",
    "# print(loss)\n",
    "# # 5. make predictions\n",
    "# predictions = model.predict(X, verbose=0)\n",
    "# print(predictions[:, 0])"
   ]
  },
  {
   "cell_type": "code",
   "execution_count": null,
   "metadata": {},
   "outputs": [],
   "source": []
  },
  {
   "cell_type": "code",
   "execution_count": null,
   "metadata": {},
   "outputs": [],
   "source": []
  },
  {
   "cell_type": "code",
   "execution_count": null,
   "metadata": {},
   "outputs": [],
   "source": []
  },
  {
   "cell_type": "code",
   "execution_count": 4,
   "metadata": {},
   "outputs": [
    {
     "name": "stdout",
     "output_type": "stream",
     "text": [
      "[[['state0_episode_0', 'action0_episode_0', 'reward0_episode_0', 'next_state0_episode_0'], ['state1_episode_0', 'action1_episode_0', 'reward1_episode_0', 'next_state1_episode_0'], ['state2_episode_0', 'action2_episode_0', 'reward2_episode_0', 'next_state2_episode_0'], ['state3_episode_0', 'action3_episode_0', 'reward3_episode_0', 'next_state3_episode_0'], ['state4_episode_0', 'action4_episode_0', 'reward4_episode_0', 'next_state4_episode_0'], ['state5_episode_0', 'action5_episode_0', 'reward5_episode_0', 'next_state5_episode_0'], ['state6_episode_0', 'action6_episode_0', 'reward6_episode_0', 'next_state6_episode_0'], ['state7_episode_0', 'action7_episode_0', 'reward7_episode_0', 'next_state7_episode_0'], ['state8_episode_0', 'action8_episode_0', 'reward8_episode_0', 'next_state8_episode_0'], ['state9_episode_0', 'action9_episode_0', 'reward9_episode_0', 'next_state9_episode_0']], [['state0_episode_1', 'action0_episode_1', 'reward0_episode_1', 'next_state0_episode_1'], ['state1_episode_1', 'action1_episode_1', 'reward1_episode_1', 'next_state1_episode_1'], ['state2_episode_1', 'action2_episode_1', 'reward2_episode_1', 'next_state2_episode_1'], ['state3_episode_1', 'action3_episode_1', 'reward3_episode_1', 'next_state3_episode_1'], ['state4_episode_1', 'action4_episode_1', 'reward4_episode_1', 'next_state4_episode_1'], ['state5_episode_1', 'action5_episode_1', 'reward5_episode_1', 'next_state5_episode_1'], ['state6_episode_1', 'action6_episode_1', 'reward6_episode_1', 'next_state6_episode_1'], ['state7_episode_1', 'action7_episode_1', 'reward7_episode_1', 'next_state7_episode_1'], ['state8_episode_1', 'action8_episode_1', 'reward8_episode_1', 'next_state8_episode_1'], ['state9_episode_1', 'action9_episode_1', 'reward9_episode_1', 'next_state9_episode_1']], [['state0_episode_2', 'action0_episode_2', 'reward0_episode_2', 'next_state0_episode_2'], ['state1_episode_2', 'action1_episode_2', 'reward1_episode_2', 'next_state1_episode_2'], ['state2_episode_2', 'action2_episode_2', 'reward2_episode_2', 'next_state2_episode_2'], ['state3_episode_2', 'action3_episode_2', 'reward3_episode_2', 'next_state3_episode_2'], ['state4_episode_2', 'action4_episode_2', 'reward4_episode_2', 'next_state4_episode_2'], ['state5_episode_2', 'action5_episode_2', 'reward5_episode_2', 'next_state5_episode_2'], ['state6_episode_2', 'action6_episode_2', 'reward6_episode_2', 'next_state6_episode_2'], ['state7_episode_2', 'action7_episode_2', 'reward7_episode_2', 'next_state7_episode_2'], ['state8_episode_2', 'action8_episode_2', 'reward8_episode_2', 'next_state8_episode_2'], ['state9_episode_2', 'action9_episode_2', 'reward9_episode_2', 'next_state9_episode_2']], [['state0_episode_3', 'action0_episode_3', 'reward0_episode_3', 'next_state0_episode_3'], ['state1_episode_3', 'action1_episode_3', 'reward1_episode_3', 'next_state1_episode_3'], ['state2_episode_3', 'action2_episode_3', 'reward2_episode_3', 'next_state2_episode_3'], ['state3_episode_3', 'action3_episode_3', 'reward3_episode_3', 'next_state3_episode_3'], ['state4_episode_3', 'action4_episode_3', 'reward4_episode_3', 'next_state4_episode_3'], ['state5_episode_3', 'action5_episode_3', 'reward5_episode_3', 'next_state5_episode_3'], ['state6_episode_3', 'action6_episode_3', 'reward6_episode_3', 'next_state6_episode_3'], ['state7_episode_3', 'action7_episode_3', 'reward7_episode_3', 'next_state7_episode_3'], ['state8_episode_3', 'action8_episode_3', 'reward8_episode_3', 'next_state8_episode_3'], ['state9_episode_3', 'action9_episode_3', 'reward9_episode_3', 'next_state9_episode_3']], [['state0_episode_4', 'action0_episode_4', 'reward0_episode_4', 'next_state0_episode_4'], ['state1_episode_4', 'action1_episode_4', 'reward1_episode_4', 'next_state1_episode_4'], ['state2_episode_4', 'action2_episode_4', 'reward2_episode_4', 'next_state2_episode_4'], ['state3_episode_4', 'action3_episode_4', 'reward3_episode_4', 'next_state3_episode_4'], ['state4_episode_4', 'action4_episode_4', 'reward4_episode_4', 'next_state4_episode_4'], ['state5_episode_4', 'action5_episode_4', 'reward5_episode_4', 'next_state5_episode_4'], ['state6_episode_4', 'action6_episode_4', 'reward6_episode_4', 'next_state6_episode_4'], ['state7_episode_4', 'action7_episode_4', 'reward7_episode_4', 'next_state7_episode_4'], ['state8_episode_4', 'action8_episode_4', 'reward8_episode_4', 'next_state8_episode_4'], ['state9_episode_4', 'action9_episode_4', 'reward9_episode_4', 'next_state9_episode_4']], [['state0_episode_5', 'action0_episode_5', 'reward0_episode_5', 'next_state0_episode_5'], ['state1_episode_5', 'action1_episode_5', 'reward1_episode_5', 'next_state1_episode_5'], ['state2_episode_5', 'action2_episode_5', 'reward2_episode_5', 'next_state2_episode_5'], ['state3_episode_5', 'action3_episode_5', 'reward3_episode_5', 'next_state3_episode_5'], ['state4_episode_5', 'action4_episode_5', 'reward4_episode_5', 'next_state4_episode_5'], ['state5_episode_5', 'action5_episode_5', 'reward5_episode_5', 'next_state5_episode_5'], ['state6_episode_5', 'action6_episode_5', 'reward6_episode_5', 'next_state6_episode_5'], ['state7_episode_5', 'action7_episode_5', 'reward7_episode_5', 'next_state7_episode_5'], ['state8_episode_5', 'action8_episode_5', 'reward8_episode_5', 'next_state8_episode_5'], ['state9_episode_5', 'action9_episode_5', 'reward9_episode_5', 'next_state9_episode_5']], [['state0_episode_6', 'action0_episode_6', 'reward0_episode_6', 'next_state0_episode_6'], ['state1_episode_6', 'action1_episode_6', 'reward1_episode_6', 'next_state1_episode_6'], ['state2_episode_6', 'action2_episode_6', 'reward2_episode_6', 'next_state2_episode_6'], ['state3_episode_6', 'action3_episode_6', 'reward3_episode_6', 'next_state3_episode_6'], ['state4_episode_6', 'action4_episode_6', 'reward4_episode_6', 'next_state4_episode_6'], ['state5_episode_6', 'action5_episode_6', 'reward5_episode_6', 'next_state5_episode_6'], ['state6_episode_6', 'action6_episode_6', 'reward6_episode_6', 'next_state6_episode_6'], ['state7_episode_6', 'action7_episode_6', 'reward7_episode_6', 'next_state7_episode_6'], ['state8_episode_6', 'action8_episode_6', 'reward8_episode_6', 'next_state8_episode_6'], ['state9_episode_6', 'action9_episode_6', 'reward9_episode_6', 'next_state9_episode_6']], [['state0_episode_7', 'action0_episode_7', 'reward0_episode_7', 'next_state0_episode_7'], ['state1_episode_7', 'action1_episode_7', 'reward1_episode_7', 'next_state1_episode_7'], ['state2_episode_7', 'action2_episode_7', 'reward2_episode_7', 'next_state2_episode_7'], ['state3_episode_7', 'action3_episode_7', 'reward3_episode_7', 'next_state3_episode_7'], ['state4_episode_7', 'action4_episode_7', 'reward4_episode_7', 'next_state4_episode_7'], ['state5_episode_7', 'action5_episode_7', 'reward5_episode_7', 'next_state5_episode_7'], ['state6_episode_7', 'action6_episode_7', 'reward6_episode_7', 'next_state6_episode_7'], ['state7_episode_7', 'action7_episode_7', 'reward7_episode_7', 'next_state7_episode_7'], ['state8_episode_7', 'action8_episode_7', 'reward8_episode_7', 'next_state8_episode_7'], ['state9_episode_7', 'action9_episode_7', 'reward9_episode_7', 'next_state9_episode_7']], [['state0_episode_8', 'action0_episode_8', 'reward0_episode_8', 'next_state0_episode_8'], ['state1_episode_8', 'action1_episode_8', 'reward1_episode_8', 'next_state1_episode_8'], ['state2_episode_8', 'action2_episode_8', 'reward2_episode_8', 'next_state2_episode_8'], ['state3_episode_8', 'action3_episode_8', 'reward3_episode_8', 'next_state3_episode_8'], ['state4_episode_8', 'action4_episode_8', 'reward4_episode_8', 'next_state4_episode_8'], ['state5_episode_8', 'action5_episode_8', 'reward5_episode_8', 'next_state5_episode_8'], ['state6_episode_8', 'action6_episode_8', 'reward6_episode_8', 'next_state6_episode_8'], ['state7_episode_8', 'action7_episode_8', 'reward7_episode_8', 'next_state7_episode_8'], ['state8_episode_8', 'action8_episode_8', 'reward8_episode_8', 'next_state8_episode_8'], ['state9_episode_8', 'action9_episode_8', 'reward9_episode_8', 'next_state9_episode_8']], [['state0_episode_9', 'action0_episode_9', 'reward0_episode_9', 'next_state0_episode_9'], ['state1_episode_9', 'action1_episode_9', 'reward1_episode_9', 'next_state1_episode_9'], ['state2_episode_9', 'action2_episode_9', 'reward2_episode_9', 'next_state2_episode_9'], ['state3_episode_9', 'action3_episode_9', 'reward3_episode_9', 'next_state3_episode_9'], ['state4_episode_9', 'action4_episode_9', 'reward4_episode_9', 'next_state4_episode_9'], ['state5_episode_9', 'action5_episode_9', 'reward5_episode_9', 'next_state5_episode_9'], ['state6_episode_9', 'action6_episode_9', 'reward6_episode_9', 'next_state6_episode_9'], ['state7_episode_9', 'action7_episode_9', 'reward7_episode_9', 'next_state7_episode_9'], ['state8_episode_9', 'action8_episode_9', 'reward8_episode_9', 'next_state8_episode_9'], ['state9_episode_9', 'action9_episode_9', 'reward9_episode_9', 'next_state9_episode_9']]]\n",
      "\n"
     ]
    }
   ],
   "source": [
    "import random\n",
    "import numpy as np\n",
    "\n",
    "\n",
    "number_of_cells_per_lane = 10\n",
    "# input_shape = (number_of_cells_per_lane, 8, 1)\n",
    "input_shape = 1\n",
    "num_actions = 4\n",
    "# num_actions = 1\n",
    "sequence_length = 3\n",
    "\n",
    "\n",
    "\n",
    "samples = []\n",
    "\n",
    "\n",
    "for ep in range(10):\n",
    "    buffer = []\n",
    "    for s in range(10):\n",
    "        buffer.append([\"state\"+str(s)+\"_episode_\"+str(ep), \"action\"+str(s)+\"_episode_\"+str(ep), \"reward\"+str(s)+\"_episode_\"+str(ep), \"next_state\"+str(s)+\"_episode_\"+str(ep)])\n",
    "    samples.append(buffer)\n",
    "print(samples)\n",
    "print(\"\")\n",
    "\n",
    "\n",
    "\n"
   ]
  },
  {
   "cell_type": "code",
   "execution_count": 5,
   "metadata": {},
   "outputs": [
    {
     "name": "stdout",
     "output_type": "stream",
     "text": [
      "[[['state7_episode_5', 'action7_episode_5', 'reward7_episode_5', 'next_state7_episode_5'], ['state8_episode_5', 'action8_episode_5', 'reward8_episode_5', 'next_state8_episode_5'], ['state9_episode_5', 'action9_episode_5', 'reward9_episode_5', 'next_state9_episode_5']], [['state4_episode_4', 'action4_episode_4', 'reward4_episode_4', 'next_state4_episode_4'], ['state5_episode_4', 'action5_episode_4', 'reward5_episode_4', 'next_state5_episode_4'], ['state6_episode_4', 'action6_episode_4', 'reward6_episode_4', 'next_state6_episode_4']], [['state0_episode_6', 'action0_episode_6', 'reward0_episode_6', 'next_state0_episode_6'], ['state1_episode_6', 'action1_episode_6', 'reward1_episode_6', 'next_state1_episode_6'], ['state2_episode_6', 'action2_episode_6', 'reward2_episode_6', 'next_state2_episode_6']], [['state6_episode_2', 'action6_episode_2', 'reward6_episode_2', 'next_state6_episode_2'], ['state7_episode_2', 'action7_episode_2', 'reward7_episode_2', 'next_state7_episode_2'], ['state8_episode_2', 'action8_episode_2', 'reward8_episode_2', 'next_state8_episode_2']], [['state1_episode_0', 'action1_episode_0', 'reward1_episode_0', 'next_state1_episode_0'], ['state2_episode_0', 'action2_episode_0', 'reward2_episode_0', 'next_state2_episode_0'], ['state3_episode_0', 'action3_episode_0', 'reward3_episode_0', 'next_state3_episode_0']]]\n"
     ]
    }
   ],
   "source": [
    "sampled_episodes = random.sample(samples, 5)\n",
    "# print(\"sampled_epsiodes\", sampled_epsiodes)\n",
    "\n",
    "batch = []              \n",
    "for episode in sampled_episodes:\n",
    "    start_point = random.randint(0,len(episode)-sequence_length)\n",
    "#     print(start_point)\n",
    "    batch.append(episode[start_point:start_point+sequence_length])\n",
    "    \n",
    "print(batch)\n",
    "\n"
   ]
  },
  {
   "cell_type": "code",
   "execution_count": null,
   "metadata": {},
   "outputs": [],
   "source": []
  },
  {
   "cell_type": "code",
   "execution_count": 6,
   "metadata": {},
   "outputs": [
    {
     "name": "stdout",
     "output_type": "stream",
     "text": [
      "(5, 3, 1)\n",
      "(5, 3, 4)\n"
     ]
    }
   ],
   "source": [
    "x = np.zeros((len(batch), sequence_length, input_shape), dtype='S16') #from online network\n",
    "y = np.zeros((len(batch), sequence_length, num_actions))  #from target network\n",
    "\n",
    "print(x.shape)\n",
    "print(y.shape)\n",
    "\n",
    "# print(len(batch))"
   ]
  },
  {
   "cell_type": "code",
   "execution_count": 7,
   "metadata": {},
   "outputs": [
    {
     "name": "stdout",
     "output_type": "stream",
     "text": [
      "[['state7_episode_5' 'state8_episode_5' 'state9_episode_5']\n",
      " ['state4_episode_4' 'state5_episode_4' 'state6_episode_4']\n",
      " ['state0_episode_6' 'state1_episode_6' 'state2_episode_6']\n",
      " ['state6_episode_2' 'state7_episode_2' 'state8_episode_2']\n",
      " ['state1_episode_0' 'state2_episode_0' 'state3_episode_0']] (5, 3)\n",
      "[['next_state7_episode_5' 'next_state8_episode_5' 'next_state9_episode_5']\n",
      " ['next_state4_episode_4' 'next_state5_episode_4' 'next_state6_episode_4']\n",
      " ['next_state0_episode_6' 'next_state1_episode_6' 'next_state2_episode_6']\n",
      " ['next_state6_episode_2' 'next_state7_episode_2' 'next_state8_episode_2']\n",
      " ['next_state1_episode_0' 'next_state2_episode_0' 'next_state3_episode_0']]\n"
     ]
    }
   ],
   "source": [
    "# states = [len(batch), sequence_length], dtype='S16')\n",
    "states = []\n",
    "next_states = []\n",
    "\n",
    "for index_sequence, sequence in enumerate(batch):\n",
    "    states.append( np.array([val[0] for val in sequence]) )\n",
    "    next_states.append( np.array([val[3] for val in sequence]) )\n",
    "\n",
    "states = np.asarray(states)\n",
    "next_states = np.asarray(next_states)\n",
    "\n",
    "    \n",
    "\n",
    "print(states, states.shape )\n",
    "print(next_states)"
   ]
  },
  {
   "cell_type": "code",
   "execution_count": 8,
   "metadata": {},
   "outputs": [
    {
     "name": "stdout",
     "output_type": "stream",
     "text": [
      "(5, 3, 4)\n",
      "current q:  [0. 0. 0. 0.]\n",
      "current q:  [0. 0. 0. 0.]\n",
      "current q:  [0. 0. 0. 0.]\n",
      "current q:  [0. 0. 0. 0.]\n",
      "current q:  [0. 0. 0. 0.]\n",
      "current q:  [0. 0. 0. 0.]\n",
      "current q:  [0. 0. 0. 0.]\n",
      "current q:  [0. 0. 0. 0.]\n",
      "current q:  [0. 0. 0. 0.]\n",
      "current q:  [0. 0. 0. 0.]\n",
      "current q:  [0. 0. 0. 0.]\n",
      "current q:  [0. 0. 0. 0.]\n",
      "current q:  [0. 0. 0. 0.]\n",
      "current q:  [0. 0. 0. 0.]\n",
      "current q:  [0. 0. 0. 0.]\n",
      "x: , [[[b'state7_episode_5']\n",
      "  [b'state8_episode_5']\n",
      "  [b'state9_episode_5']]\n",
      "\n",
      " [[b'state4_episode_4']\n",
      "  [b'state5_episode_4']\n",
      "  [b'state6_episode_4']]\n",
      "\n",
      " [[b'state0_episode_6']\n",
      "  [b'state1_episode_6']\n",
      "  [b'state2_episode_6']]\n",
      "\n",
      " [[b'state6_episode_2']\n",
      "  [b'state7_episode_2']\n",
      "  [b'state8_episode_2']]\n",
      "\n",
      " [[b'state1_episode_0']\n",
      "  [b'state2_episode_0']\n",
      "  [b'state3_episode_0']]] (5, 3, 1)\n",
      "y: , [[[ 0.  0.  0.  0.]\n",
      "  [ 0.  9.  0.  0.]\n",
      "  [ 0.  0.  2.  0.]]\n",
      "\n",
      " [[ 0.  0.  0.  4.]\n",
      "  [ 0.  0.  0.  8.]\n",
      "  [ 0.  0.  3.  0.]]\n",
      "\n",
      " [[ 0.  0.  7.  0.]\n",
      "  [ 9.  0.  0.  0.]\n",
      "  [ 0.  0.  0.  9.]]\n",
      "\n",
      " [[ 0.  0. 10.  0.]\n",
      "  [ 0.  0.  0.  2.]\n",
      "  [ 0.  0.  0. 10.]]\n",
      "\n",
      " [[ 0.  0.  0.  0.]\n",
      "  [ 0.  0.  3.  0.]\n",
      "  [ 0.  0.  0.  9.]]] (5, 3, 4)\n"
     ]
    }
   ],
   "source": [
    "q_s_a = np.zeros((len(batch), 3, 4))\n",
    "q_s_a_d = np.zeros((len(batch),3, 4))\n",
    "print(q_s_a.shape)\n",
    "\n",
    "gamma = 0.5\n",
    "\n",
    "for index_sequence, sequence in enumerate(batch):\n",
    "    for index_step, step in enumerate(sequence):\n",
    "        state, action, reward, _ = step[0], step[1], step[2], step[3]  # extract data from one sample\n",
    "    \n",
    "#         print(index_sequence, \"....\", index_step)\n",
    "        current_q = q_s_a[index_sequence][index_step]  # get the Q(state) predicted before\n",
    "        print(\"current q: \",current_q)\n",
    "        \n",
    "#         print(\"action: \", action) #action will be 0,1,2,3\n",
    "        action = random.randint(0, 3)\n",
    "#         print(\"action: \", action)\n",
    "        \n",
    "            #update with combination of online and target network\n",
    "        current_q[action] = random.randint(0,10) #reward + \"gamma * np.amax(q_s_a_d[index_sequence][index_step])\"  # update Q(state, action)\n",
    "        x[index_sequence][index_step] = state\n",
    "        y[index_sequence][index_step] = current_q\n",
    "        \n",
    "print(\"x: ,\", x, x.shape)\n",
    "print(\"y: ,\", y,y.shape)\n",
    "        \n",
    "        \n",
    "# print(\"current-q \", current_q)\n",
    "\n",
    "# x[i] = state\n",
    "#         y[i] = current_q  # Q(state) that includes the updated action value\n",
    "\n",
    "        \n",
    "\n",
    "\n",
    "        "
   ]
  },
  {
   "cell_type": "code",
   "execution_count": null,
   "metadata": {},
   "outputs": [],
   "source": []
  },
  {
   "cell_type": "code",
   "execution_count": null,
   "metadata": {},
   "outputs": [],
   "source": []
  },
  {
   "cell_type": "code",
   "execution_count": null,
   "metadata": {},
   "outputs": [],
   "source": []
  },
  {
   "cell_type": "code",
   "execution_count": null,
   "metadata": {},
   "outputs": [],
   "source": []
  },
  {
   "cell_type": "code",
   "execution_count": null,
   "metadata": {},
   "outputs": [],
   "source": []
  },
  {
   "cell_type": "code",
   "execution_count": null,
   "metadata": {},
   "outputs": [],
   "source": []
  },
  {
   "cell_type": "code",
   "execution_count": 9,
   "metadata": {},
   "outputs": [],
   "source": [
    "import numpy as np"
   ]
  },
  {
   "cell_type": "code",
   "execution_count": 10,
   "metadata": {},
   "outputs": [
    {
     "name": "stdout",
     "output_type": "stream",
     "text": [
      "[[[0. 0. 0. 0.]\n",
      "  [0. 0. 0. 0.]\n",
      "  [0. 0. 0. 0.]]\n",
      "\n",
      " [[0. 0. 0. 0.]\n",
      "  [0. 0. 0. 0.]\n",
      "  [0. 0. 0. 0.]]]\n",
      "-----------\n",
      "[[[0. 0. 0. 0.]\n",
      "  [0. 0. 0. 0.]\n",
      "  [0. 0. 0. 0.]]\n",
      "\n",
      " [[2. 0. 0. 0.]\n",
      "  [0. 0. 0. 0.]\n",
      "  [0. 0. 0. 0.]]]\n"
     ]
    }
   ],
   "source": [
    "a = np.zeros((2,3,4))\n",
    "print(a)\n",
    "print(\"-----------\")\n",
    "\n",
    "\n",
    "a[1][0][0]=2\n",
    "print(a)\n",
    "\n",
    "\n"
   ]
  },
  {
   "cell_type": "code",
   "execution_count": 11,
   "metadata": {},
   "outputs": [
    {
     "name": "stdout",
     "output_type": "stream",
     "text": [
      "[1]\n"
     ]
    }
   ],
   "source": [
    "b=[]\n",
    "\n",
    "b.append(1)\n",
    "\n",
    "print(b)"
   ]
  },
  {
   "cell_type": "code",
   "execution_count": 12,
   "metadata": {},
   "outputs": [
    {
     "name": "stdout",
     "output_type": "stream",
     "text": [
      "[4.5 4.5]\n"
     ]
    }
   ],
   "source": [
    "import pandas as pd\n",
    "\n",
    "def rollavg_pandas(a,n):\n",
    "        'Pandas rolling average over data set a with window size n. Returns a centered np array of same size'\n",
    "        return np.ravel(pd.DataFrame(a).rolling(n, center=True, min_periods=1).mean().to_numpy())\n",
    "\n",
    "\n",
    "data = [1,8]\n",
    "    \n",
    "roling_window = 8\n",
    "        # if (len(data>=roling_wind\n",
    "data = rollavg_pandas(data, roling_window)\n",
    "\n",
    "print(data)"
   ]
  },
  {
   "cell_type": "code",
   "execution_count": 13,
   "metadata": {},
   "outputs": [
    {
     "name": "stdout",
     "output_type": "stream",
     "text": [
      "[1, 2, [1, 2, 3, 4, 5, 6]]\n"
     ]
    }
   ],
   "source": [
    "def hello():\n",
    "    q=1\n",
    "    w=2\n",
    "    e=[1,2,3,4,5,6]\n",
    "    \n",
    "    return [q,w,e]\n",
    "\n",
    "print(hello())"
   ]
  },
  {
   "cell_type": "code",
   "execution_count": null,
   "metadata": {},
   "outputs": [],
   "source": []
  },
  {
   "cell_type": "code",
   "execution_count": null,
   "metadata": {},
   "outputs": [],
   "source": []
  },
  {
   "cell_type": "code",
   "execution_count": 14,
   "metadata": {},
   "outputs": [
    {
     "name": "stdout",
     "output_type": "stream",
     "text": [
      "[0. 0. 0. 0.]\n"
     ]
    }
   ],
   "source": [
    "print(np.zeros(4))"
   ]
  },
  {
   "cell_type": "code",
   "execution_count": 15,
   "metadata": {},
   "outputs": [
    {
     "name": "stdout",
     "output_type": "stream",
     "text": [
      "[(10, 8, 2), 4, 1]\n",
      "[(10, 8, 2), 4, 1]\n"
     ]
    }
   ],
   "source": [
    "#SET STATE DIMENSION PARAMETERS\n",
    "number_of_cells_per_lane = 10\n",
    "conv_state_shape = (number_of_cells_per_lane, 8, 2)\n",
    "green_phase_state_shape = 4\n",
    "elapsed_time_state_shape = 1\n",
    "state_shape = [conv_state_shape, green_phase_state_shape, elapsed_time_state_shape]\n",
    " \n",
    "print(state_shape)\n",
    "\n",
    "print([state_shape[0], state_shape[1], state_shape[2]])\n"
   ]
  },
  {
   "cell_type": "code",
   "execution_count": 16,
   "metadata": {},
   "outputs": [
    {
     "name": "stdout",
     "output_type": "stream",
     "text": [
      "[0. 0. 1. 0.]\n"
     ]
    }
   ],
   "source": [
    "green_phase_state = np.zeros(state_shape[1])\n",
    "green_phase_state[2] = 1\n",
    "\n",
    "print(green_phase_state)"
   ]
  },
  {
   "cell_type": "code",
   "execution_count": null,
   "metadata": {},
   "outputs": [],
   "source": []
  },
  {
   "cell_type": "code",
   "execution_count": null,
   "metadata": {},
   "outputs": [],
   "source": []
  },
  {
   "cell_type": "code",
   "execution_count": null,
   "metadata": {},
   "outputs": [],
   "source": []
  },
  {
   "cell_type": "code",
   "execution_count": 134,
   "metadata": {},
   "outputs": [
    {
     "name": "stdout",
     "output_type": "stream",
     "text": [
      "(15, 8, 3)\n",
      "(2, 8, 2)\n"
     ]
    }
   ],
   "source": [
    "L = []\n",
    "\n",
    "\n",
    "for x in range(15):\n",
    "    temp = []\n",
    "    for y in range (8):\n",
    "        temp.append([np.random.rand(2,8,2), np.random.rand(4), 23])\n",
    "    L.append(temp)\n",
    "              \n",
    "# print(L)\n",
    "L = np.asarray(L)\n",
    "print(L.shape)\n",
    "print(L[0][0][0].shape)\n",
    "\n"
   ]
  },
  {
   "cell_type": "code",
   "execution_count": 115,
   "metadata": {},
   "outputs": [
    {
     "name": "stdout",
     "output_type": "stream",
     "text": [
      "(15,)\n",
      "------\n",
      "K1:  (15,) [array([0.7331605 , 0.05076741, 0.36866795, 0.05889683])\n",
      " array([0.25119205, 0.60878257, 0.64068848, 0.84423789])\n",
      " array([0.63151348, 0.73128216, 0.68496817, 0.59168999])\n",
      " array([0.00318538, 0.59659337, 0.41725245, 0.24994936])\n",
      " array([0.82020541, 0.0676231 , 0.3655208 , 0.25473668])\n",
      " array([0.3511161 , 0.11978402, 0.90814116, 0.15455863])\n",
      " array([0.95008309, 0.54953048, 0.88436523, 0.89567363])\n",
      " array([0.88384462, 0.27380379, 0.98959524, 0.30724914])\n",
      " array([0.50279243, 0.99176509, 0.95598995, 0.85166968])\n",
      " array([0.65801678, 0.76440165, 0.21144751, 0.73275945])\n",
      " array([0.71596397, 0.21301077, 0.17761369, 0.33979022])\n",
      " array([0.35523564, 0.9995932 , 0.14361286, 0.13943099])\n",
      " array([0.76541894, 0.37406208, 0.92865142, 0.12134889])\n",
      " array([0.66906416, 0.2343215 , 0.53771032, 0.97396121])\n",
      " array([0.37065575, 0.39692956, 0.68338624, 0.48837111])]\n",
      "-----\n",
      "(4,) [0.7331605  0.05076741 0.36866795 0.05889683] <class 'numpy.ndarray'>\n"
     ]
    }
   ],
   "source": [
    "print(L[:,0].shape)\n",
    "# print(L[:,1])\n",
    "\n",
    "print(\"------\")\n",
    "\n",
    "K0 = L[:,0]\n",
    "K1 = L[:,1]\n",
    "K2 = L[:,2]\n",
    "print(\"K1: \", K1.shape, K1)\n",
    "\n",
    "print(\"-----\")\n",
    "print(K1[0].shape, K1[0], type(K1[0]))\n"
   ]
  },
  {
   "cell_type": "code",
   "execution_count": 116,
   "metadata": {},
   "outputs": [
    {
     "name": "stdout",
     "output_type": "stream",
     "text": [
      "(15, 4) [[0.7331605  0.05076741 0.36866795 0.05889683]\n",
      " [0.25119205 0.60878257 0.64068848 0.84423789]\n",
      " [0.63151348 0.73128216 0.68496817 0.59168999]\n",
      " [0.00318538 0.59659337 0.41725245 0.24994936]\n",
      " [0.82020541 0.0676231  0.3655208  0.25473668]\n",
      " [0.3511161  0.11978402 0.90814116 0.15455863]\n",
      " [0.95008309 0.54953048 0.88436523 0.89567363]\n",
      " [0.88384462 0.27380379 0.98959524 0.30724914]\n",
      " [0.50279243 0.99176509 0.95598995 0.85166968]\n",
      " [0.65801678 0.76440165 0.21144751 0.73275945]\n",
      " [0.71596397 0.21301077 0.17761369 0.33979022]\n",
      " [0.35523564 0.9995932  0.14361286 0.13943099]\n",
      " [0.76541894 0.37406208 0.92865142 0.12134889]\n",
      " [0.66906416 0.2343215  0.53771032 0.97396121]\n",
      " [0.37065575 0.39692956 0.68338624 0.48837111]]\n"
     ]
    }
   ],
   "source": [
    "J1 = np.concatenate(K1).reshape((15,4))\n",
    "print(J1.shape, J1)"
   ]
  },
  {
   "cell_type": "code",
   "execution_count": null,
   "metadata": {},
   "outputs": [],
   "source": [
    "\n"
   ]
  },
  {
   "cell_type": "code",
   "execution_count": 118,
   "metadata": {},
   "outputs": [
    {
     "name": "stdout",
     "output_type": "stream",
     "text": [
      "(15, 2, 8, 2) [[[[0.74489412 0.20674486]\n",
      "   [0.76492674 0.45786593]\n",
      "   [0.36420031 0.50921633]\n",
      "   [0.97859753 0.94659086]\n",
      "   [0.1335775  0.50789508]\n",
      "   [0.52261268 0.53986829]\n",
      "   [0.84994852 0.353315  ]\n",
      "   [0.388698   0.34725806]]\n",
      "\n",
      "  [[0.65507421 0.16277852]\n",
      "   [0.69797755 0.80444447]\n",
      "   [0.74608712 0.62327667]\n",
      "   [0.3988514  0.60515703]\n",
      "   [0.08589372 0.48312466]\n",
      "   [0.2825303  0.06195482]\n",
      "   [0.45824427 0.29642216]\n",
      "   [0.72694159 0.66652394]]]\n",
      "\n",
      "\n",
      " [[[0.33012714 0.29825706]\n",
      "   [0.60986891 0.32939859]\n",
      "   [0.41041183 0.10992324]\n",
      "   [0.11804085 0.05045018]\n",
      "   [0.92024875 0.82666851]\n",
      "   [0.20198278 0.75190294]\n",
      "   [0.88640846 0.65313248]\n",
      "   [0.48361383 0.73522826]]\n",
      "\n",
      "  [[0.01962477 0.49001031]\n",
      "   [0.34651012 0.2432548 ]\n",
      "   [0.83015407 0.21795219]\n",
      "   [0.35554662 0.18539662]\n",
      "   [0.22142536 0.86336359]\n",
      "   [0.94915167 0.20016811]\n",
      "   [0.78508298 0.39876976]\n",
      "   [0.12591147 0.63016687]]]\n",
      "\n",
      "\n",
      " [[[0.53839689 0.21928783]\n",
      "   [0.2058835  0.30661047]\n",
      "   [0.16797131 0.33295989]\n",
      "   [0.35682761 0.09171508]\n",
      "   [0.7894403  0.73170503]\n",
      "   [0.34090483 0.35184575]\n",
      "   [0.58472014 0.83263474]\n",
      "   [0.32605313 0.34738451]]\n",
      "\n",
      "  [[0.27648873 0.52282487]\n",
      "   [0.48711433 0.91425152]\n",
      "   [0.73581704 0.70166536]\n",
      "   [0.57044476 0.48768854]\n",
      "   [0.06068432 0.87385072]\n",
      "   [0.21652968 0.11998208]\n",
      "   [0.15978273 0.40766325]\n",
      "   [0.73633826 0.53775296]]]\n",
      "\n",
      "\n",
      " [[[0.72884428 0.14819668]\n",
      "   [0.04118418 0.83821964]\n",
      "   [0.95781578 0.97348584]\n",
      "   [0.61544379 0.66692591]\n",
      "   [0.55452046 0.59810381]\n",
      "   [0.82995858 0.68548365]\n",
      "   [0.79198551 0.37462664]\n",
      "   [0.80708441 0.48909683]]\n",
      "\n",
      "  [[0.26144154 0.10629343]\n",
      "   [0.51486949 0.21046522]\n",
      "   [0.02414479 0.86773527]\n",
      "   [0.62148316 0.48788414]\n",
      "   [0.86195781 0.43114628]\n",
      "   [0.67693481 0.89717961]\n",
      "   [0.54554292 0.39116671]\n",
      "   [0.92579746 0.9082241 ]]]\n",
      "\n",
      "\n",
      " [[[0.37809986 0.07904699]\n",
      "   [0.05604247 0.41433592]\n",
      "   [0.93498522 0.22998781]\n",
      "   [0.65491303 0.92362384]\n",
      "   [0.51149788 0.33485849]\n",
      "   [0.09790422 0.52248788]\n",
      "   [0.64051385 0.11667652]\n",
      "   [0.00350843 0.73530213]]\n",
      "\n",
      "  [[0.45344703 0.66083594]\n",
      "   [0.40520849 0.47959108]\n",
      "   [0.6070753  0.5520122 ]\n",
      "   [0.80160793 0.74336532]\n",
      "   [0.76131695 0.77686853]\n",
      "   [0.61334712 0.75329662]\n",
      "   [0.47893323 0.92059975]\n",
      "   [0.22474716 0.92436237]]]\n",
      "\n",
      "\n",
      " [[[0.86751647 0.98872286]\n",
      "   [0.59299803 0.84631868]\n",
      "   [0.45435257 0.85148569]\n",
      "   [0.50387724 0.47359106]\n",
      "   [0.18060165 0.04636305]\n",
      "   [0.01142029 0.20007196]\n",
      "   [0.87079828 0.01683311]\n",
      "   [0.43680234 0.81572208]]\n",
      "\n",
      "  [[0.02226868 0.80872221]\n",
      "   [0.4748342  0.2624879 ]\n",
      "   [0.78040337 0.18415018]\n",
      "   [0.77995334 0.03384759]\n",
      "   [0.62454071 0.82757271]\n",
      "   [0.75152635 0.85104346]\n",
      "   [0.44073834 0.37618778]\n",
      "   [0.31229583 0.15339971]]]\n",
      "\n",
      "\n",
      " [[[0.61544421 0.84929909]\n",
      "   [0.74252243 0.45502599]\n",
      "   [0.57280939 0.97693699]\n",
      "   [0.98343012 0.33204519]\n",
      "   [0.64842337 0.70763243]\n",
      "   [0.36669122 0.35144363]\n",
      "   [0.63763336 0.93434274]\n",
      "   [0.81250873 0.14566551]]\n",
      "\n",
      "  [[0.08011414 0.45211412]\n",
      "   [0.27492353 0.37530052]\n",
      "   [0.11351007 0.61897742]\n",
      "   [0.93324259 0.14017758]\n",
      "   [0.42091616 0.21093822]\n",
      "   [0.65531601 0.73303897]\n",
      "   [0.7645255  0.04467845]\n",
      "   [0.79603929 0.33299608]]]\n",
      "\n",
      "\n",
      " [[[0.91186608 0.55700256]\n",
      "   [0.77964448 0.14551388]\n",
      "   [0.10785696 0.3073281 ]\n",
      "   [0.78574127 0.44973562]\n",
      "   [0.27842735 0.43086227]\n",
      "   [0.02080447 0.89313717]\n",
      "   [0.72273058 0.19739887]\n",
      "   [0.26010392 0.78704442]]\n",
      "\n",
      "  [[0.96804461 0.78935901]\n",
      "   [0.1507695  0.67194504]\n",
      "   [0.75080627 0.0707255 ]\n",
      "   [0.7639289  0.389887  ]\n",
      "   [0.8868317  0.15252005]\n",
      "   [0.93991601 0.59296592]\n",
      "   [0.49023903 0.69511378]\n",
      "   [0.19826121 0.93047172]]]\n",
      "\n",
      "\n",
      " [[[0.04139245 0.80466579]\n",
      "   [0.0118113  0.63300487]\n",
      "   [0.92623946 0.54155427]\n",
      "   [0.11020093 0.15002866]\n",
      "   [0.75321462 0.58294112]\n",
      "   [0.85776189 0.39420991]\n",
      "   [0.31417322 0.25556529]\n",
      "   [0.38132169 0.98063012]]\n",
      "\n",
      "  [[0.25966475 0.65214875]\n",
      "   [0.38343414 0.20090398]\n",
      "   [0.2920076  0.39651432]\n",
      "   [0.93917877 0.03519461]\n",
      "   [0.69833888 0.19379137]\n",
      "   [0.29063581 0.49106661]\n",
      "   [0.17153883 0.35019177]\n",
      "   [0.37036696 0.26863014]]]\n",
      "\n",
      "\n",
      " [[[0.68704322 0.26568192]\n",
      "   [0.64433803 0.02112934]\n",
      "   [0.98220502 0.67665584]\n",
      "   [0.97208363 0.95109687]\n",
      "   [0.60096223 0.22702252]\n",
      "   [0.30622414 0.21214629]\n",
      "   [0.71171701 0.28875457]\n",
      "   [0.56826215 0.56114442]]\n",
      "\n",
      "  [[0.66641685 0.09231701]\n",
      "   [0.06506678 0.95895483]\n",
      "   [0.72800744 0.51472692]\n",
      "   [0.79123959 0.70469828]\n",
      "   [0.84405582 0.61643654]\n",
      "   [0.05056522 0.20774683]\n",
      "   [0.67207188 0.40369657]\n",
      "   [0.85659933 0.48909668]]]\n",
      "\n",
      "\n",
      " [[[0.37776417 0.97740153]\n",
      "   [0.86460178 0.65434456]\n",
      "   [0.68285214 0.43283993]\n",
      "   [0.86947384 0.29477529]\n",
      "   [0.2049996  0.32634814]\n",
      "   [0.25676008 0.57000012]\n",
      "   [0.38049701 0.98214846]\n",
      "   [0.07991818 0.32400301]]\n",
      "\n",
      "  [[0.04447939 0.76412458]\n",
      "   [0.22091948 0.87540378]\n",
      "   [0.14122447 0.36477222]\n",
      "   [0.82015788 0.12871103]\n",
      "   [0.28126248 0.8132528 ]\n",
      "   [0.79880639 0.54856343]\n",
      "   [0.27150296 0.76332967]\n",
      "   [0.89838639 0.77951189]]]\n",
      "\n",
      "\n",
      " [[[0.23585691 0.58720012]\n",
      "   [0.96839151 0.86267937]\n",
      "   [0.84482191 0.57258579]\n",
      "   [0.34921229 0.76530617]\n",
      "   [0.85808652 0.69822276]\n",
      "   [0.72668308 0.18905128]\n",
      "   [0.29338322 0.01520879]\n",
      "   [0.38252905 0.45162266]]\n",
      "\n",
      "  [[0.57951501 0.89053198]\n",
      "   [0.18034685 0.5114726 ]\n",
      "   [0.87933423 0.74490712]\n",
      "   [0.39715566 0.94239479]\n",
      "   [0.2703649  0.16451971]\n",
      "   [0.99094446 0.04376213]\n",
      "   [0.90426367 0.97119607]\n",
      "   [0.74624721 0.08289954]]]\n",
      "\n",
      "\n",
      " [[[0.98403918 0.86124062]\n",
      "   [0.81894183 0.65573556]\n",
      "   [0.74530863 0.25088484]\n",
      "   [0.97387187 0.04400348]\n",
      "   [0.69987852 0.80801028]\n",
      "   [0.26055191 0.4813201 ]\n",
      "   [0.36802819 0.47256889]\n",
      "   [0.96497289 0.01398797]]\n",
      "\n",
      "  [[0.0998937  0.85909022]\n",
      "   [0.62317344 0.94297228]\n",
      "   [0.01535739 0.13367788]\n",
      "   [0.09251107 0.96739057]\n",
      "   [0.45362997 0.86665815]\n",
      "   [0.3226861  0.63326755]\n",
      "   [0.00903236 0.34189147]\n",
      "   [0.34178035 0.3329327 ]]]\n",
      "\n",
      "\n",
      " [[[0.75231012 0.42772012]\n",
      "   [0.30479366 0.51577975]\n",
      "   [0.06667786 0.99398668]\n",
      "   [0.40784487 0.05279298]\n",
      "   [0.26133425 0.926945  ]\n",
      "   [0.46998749 0.81058854]\n",
      "   [0.0814102  0.34889555]\n",
      "   [0.8662114  0.29488396]]\n",
      "\n",
      "  [[0.24826718 0.29831767]\n",
      "   [0.53056408 0.468007  ]\n",
      "   [0.30833205 0.96642386]\n",
      "   [0.13655373 0.94815617]\n",
      "   [0.56144112 0.59072689]\n",
      "   [0.79680768 0.82160717]\n",
      "   [0.21012131 0.48375882]\n",
      "   [0.15094479 0.20479653]]]\n",
      "\n",
      "\n",
      " [[[0.33410415 0.43408635]\n",
      "   [0.18929835 0.12610661]\n",
      "   [0.68363102 0.42040074]\n",
      "   [0.6520246  0.71001844]\n",
      "   [0.12375328 0.94221002]\n",
      "   [0.88602107 0.23351122]\n",
      "   [0.94032562 0.87856201]\n",
      "   [0.08953923 0.7809964 ]]\n",
      "\n",
      "  [[0.04127269 0.82709793]\n",
      "   [0.11964324 0.65120623]\n",
      "   [0.43393762 0.6614795 ]\n",
      "   [0.65529433 0.0398338 ]\n",
      "   [0.05565089 0.87046944]\n",
      "   [0.57247351 0.82238865]\n",
      "   [0.96690696 0.62510465]\n",
      "   [0.41395659 0.09926543]]]]\n"
     ]
    }
   ],
   "source": [
    "\n",
    "J0 = np.concatenate(K0).reshape((15,2,8,2))\n",
    "print(J0.shape, J0)"
   ]
  },
  {
   "cell_type": "code",
   "execution_count": null,
   "metadata": {},
   "outputs": [],
   "source": []
  },
  {
   "cell_type": "code",
   "execution_count": 119,
   "metadata": {},
   "outputs": [
    {
     "name": "stdout",
     "output_type": "stream",
     "text": [
      "K2:  (15,) [23 23 23 23 23 23 23 23 23 23 23 23 23 23 23]\n",
      "object\n"
     ]
    }
   ],
   "source": [
    "print(\"K2: \", K2.shape, K2)\n",
    "\n",
    "\n",
    "print(K2.dtype)"
   ]
  },
  {
   "cell_type": "code",
   "execution_count": 120,
   "metadata": {},
   "outputs": [
    {
     "name": "stdout",
     "output_type": "stream",
     "text": [
      "[23. 23. 23. 23. 23. 23. 23. 23. 23. 23. 23. 23. 23. 23. 23.] float64\n"
     ]
    }
   ],
   "source": [
    "G = L[:,2]\n",
    "\n",
    "F = np.array(G, dtype=np.float)\n",
    "print(F, F.dtype)"
   ]
  },
  {
   "cell_type": "code",
   "execution_count": null,
   "metadata": {},
   "outputs": [],
   "source": []
  },
  {
   "cell_type": "code",
   "execution_count": null,
   "metadata": {},
   "outputs": [],
   "source": []
  },
  {
   "cell_type": "code",
   "execution_count": 121,
   "metadata": {},
   "outputs": [
    {
     "name": "stdout",
     "output_type": "stream",
     "text": [
      "[(10, 8, 2), 4, 1]\n",
      "[(1, 1, 10, 8, 2), (1, 1, 4), (1, 1, 1)]\n",
      "(1, 1, 4)\n"
     ]
    }
   ],
   "source": [
    "#SET STATE DIMENSION PARAMETERS\n",
    "number_of_cells_per_lane = 10\n",
    "conv_state_shape = (number_of_cells_per_lane, 8, 2)\n",
    "green_phase_state_shape = 4\n",
    "elapsed_time_state_shape = 1\n",
    "state_shape = [conv_state_shape, green_phase_state_shape, elapsed_time_state_shape]\n",
    " \n",
    "    \n",
    "print(state_shape)\n",
    "\n",
    "# sequence_state_shape = (None, ) + state_shape[i] \n",
    "\n",
    "# for i in range(len(state_shape)):\n",
    "#     print(i)\n",
    "#     sequence_state_shape = (None, ) + state_shape[i]\n",
    "\n",
    "sequence_state_shape = []\n",
    "sequence_state_shape.append((1,1) +state_shape[0])\n",
    "sequence_state_shape.append((1,1, state_shape[1]))\n",
    "sequence_state_shape.append((1,1, state_shape[2]))\n",
    "    \n",
    "\n",
    "print(sequence_state_shape)\n",
    "print(sequence_state_shape[1])"
   ]
  },
  {
   "cell_type": "code",
   "execution_count": 126,
   "metadata": {},
   "outputs": [
    {
     "name": "stdout",
     "output_type": "stream",
     "text": [
      "(15,)\n",
      "23\n",
      "(1, 1, 1)\n",
      "[[[23]]]\n"
     ]
    }
   ],
   "source": [
    "print(L[:,2].shape)\n",
    "print(L[:,2][0])\n",
    "\n",
    "new = L[:,2][0]\n",
    "new2 = np.expand_dims((new,), axis=(0,1))\n",
    "# new = (1,1,new)\n",
    "\n",
    "print(new2.shape)\n",
    "print(new2)"
   ]
  },
  {
   "cell_type": "code",
   "execution_count": null,
   "metadata": {},
   "outputs": [],
   "source": []
  },
  {
   "cell_type": "code",
   "execution_count": null,
   "metadata": {},
   "outputs": [],
   "source": []
  }
 ],
 "metadata": {
  "kernelspec": {
   "display_name": "Python 3",
   "language": "python",
   "name": "python3"
  },
  "language_info": {
   "codemirror_mode": {
    "name": "ipython",
    "version": 3
   },
   "file_extension": ".py",
   "mimetype": "text/x-python",
   "name": "python",
   "nbconvert_exporter": "python",
   "pygments_lexer": "ipython3",
   "version": "3.7.7"
  }
 },
 "nbformat": 4,
 "nbformat_minor": 4
}
