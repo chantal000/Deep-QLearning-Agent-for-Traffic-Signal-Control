{
 "cells": [
  {
   "cell_type": "code",
   "execution_count": 1,
   "metadata": {},
   "outputs": [],
   "source": [
    "import numpy as np\n",
    "import sys\n",
    "\n",
    "from tensorflow import keras\n",
    "from tensorflow.keras import layers\n",
    "from tensorflow.keras import losses\n",
    "from tensorflow.keras.optimizers import Adam\n",
    "from tensorflow.keras.utils import plot_model\n",
    "from tensorflow.keras.models import load_model"
   ]
  },
  {
   "cell_type": "code",
   "execution_count": 2,
   "metadata": {},
   "outputs": [],
   "source": [
    "class TrainModel:\n",
    "    def __init__(self, num_layers, width, batch_size, learning_rate, input_dim, output_dim, input_shape):\n",
    "        self._input_dim = input_dim  #old, should be deleted everywhere + code adjusted + config changed\n",
    "        self._input_shape = input_shape\n",
    "        self._output_dim = output_dim\n",
    "        self._batch_size = batch_size\n",
    "        self._learning_rate = learning_rate\n",
    "        self._model = self._build_model(num_layers, width)\n",
    "        \n",
    "\n",
    "class RNNTrainModel(TrainModel):\n",
    "    def __init__(self, num_layers, width, batch_size, learning_rate, input_dim, output_dim, input_shape, sequence_length):\n",
    "        self._sequence_length = sequence_length\n",
    "        super().__init__(num_layers, width, batch_size, learning_rate, input_dim, output_dim, input_shape)\n",
    "    \n",
    "    \n",
    "    def _build_model(self, num_layers, width):\n",
    "        \"\"\"\n",
    "        Build and compile a deep neural network with convolution as LSTM\n",
    "        \"\"\"\n",
    "        \n",
    "        self._input_shape =  (self._sequence_length,) + self._input_shape\n",
    "        \n",
    "        \n",
    "        #input layer\n",
    "        inputs = keras.Input(shape = self._input_shape)\n",
    "                \n",
    "        #convolutional layers\n",
    "        c1 = layers.TimeDistributed(layers.Conv2D(filters = 128, kernel_size = 4, strides = (2,2), padding = \"same\", activation = 'relu'))(inputs)\n",
    "        c2 = layers.TimeDistributed(layers.Conv2D(filters = 128, kernel_size = 4, strides = (2,2), padding = \"same\", activation = 'relu'))(c1)\n",
    "        c3 = layers.TimeDistributed(layers.Conv2D(filters = 64, kernel_size = 2, strides = (1,1), padding = \"same\", activation = 'relu'))(c2)\n",
    "        flat = layers.TimeDistributed(layers.Flatten())(c3)\n",
    "        lstm = layers.LSTM(96, activation='tanh')(flat)\n",
    "        dense = layers.Dense(16, activation='relu')(lstm)\n",
    "        outputs = layers.Dense(self._output_dim, activation='linear')(dense)\n",
    "        \n",
    "        \n",
    "        model = keras.Model(inputs = inputs, outputs = dense, name='CNN_with_LSTM')\n",
    "        model.compile(loss=losses.mean_squared_error, optimizer=Adam(lr=self._learning_rate))\n",
    "        \n",
    "        # model.summary()\n",
    "        return model\n",
    "\n",
    "\n",
    "    \n",
    "num_layers=4 \n",
    "width=4\n",
    "batch_size=100\n",
    "learning_rate= 0.001\n",
    "input_dim=20\n",
    "output_dim= 4\n",
    "sequence_length= 8\n",
    "\n",
    "number_of_cells_per_lane = 10\n",
    "input_shape = (number_of_cells_per_lane, 8, 1)\n",
    "\n",
    "\n",
    "\n",
    "Model = RNNTrainModel(num_layers, width, batch_size, learning_rate, input_dim, output_dim, input_shape, sequence_length)"
   ]
  },
  {
   "cell_type": "code",
   "execution_count": null,
   "metadata": {},
   "outputs": [],
   "source": []
  },
  {
   "cell_type": "code",
   "execution_count": null,
   "metadata": {},
   "outputs": [],
   "source": []
  },
  {
   "cell_type": "code",
   "execution_count": null,
   "metadata": {},
   "outputs": [],
   "source": []
  },
  {
   "cell_type": "code",
   "execution_count": null,
   "metadata": {},
   "outputs": [],
   "source": []
  },
  {
   "cell_type": "code",
   "execution_count": 3,
   "metadata": {},
   "outputs": [
    {
     "name": "stdout",
     "output_type": "stream",
     "text": [
      "[0.0, 0.1, 0.2, 0.3, 0.4, 0.5, 0.6, 0.7, 0.8, 0.9]\n",
      "     0    0\n",
      "1  0.0  0.1\n",
      "2  0.1  0.2\n",
      "3  0.2  0.3\n",
      "4  0.3  0.4\n",
      "5  0.4  0.5\n",
      "6  0.5  0.6\n",
      "7  0.6  0.7\n",
      "8  0.7  0.8\n",
      "9  0.8  0.9\n",
      "[[[0. ]]\n",
      "\n",
      " [[0.1]]\n",
      "\n",
      " [[0.2]]\n",
      "\n",
      " [[0.3]]\n",
      "\n",
      " [[0.4]]\n",
      "\n",
      " [[0.5]]\n",
      "\n",
      " [[0.6]]\n",
      "\n",
      " [[0.7]]\n",
      "\n",
      " [[0.8]]]\n",
      "[0.1 0.2 0.3 0.4 0.5 0.6 0.7 0.8 0.9]\n"
     ]
    }
   ],
   "source": [
    "from tensorflow import keras\n",
    "from pandas import DataFrame\n",
    "from pandas import concat\n",
    "from tensorflow.keras.models import Sequential\n",
    "from tensorflow.keras.layers import Dense\n",
    "from tensorflow.keras.layers import LSTM\n",
    "\n",
    "# create sequence\n",
    "length = 10\n",
    "sequence = [i/float(length) for i in range(length)]\n",
    "print(sequence)\n",
    "\n",
    "# create X/y pairs\n",
    "df = DataFrame(sequence)\n",
    "df = concat([df.shift(1), df], axis=1)\n",
    "df.dropna(inplace=True)\n",
    "\n",
    "print(df)\n",
    "\n",
    "# convert to LSTM friendly format\n",
    "values = df.values\n",
    "X, y = values[:, 0], values[:, 1]\n",
    "X = X.reshape(len(X), 1, 1)\n",
    "\n",
    "print(X)\n",
    "print(y)\n",
    "\n",
    "# # 1. define network\n",
    "# model = Sequential()\n",
    "# model.add(LSTM(10, input_shape=(1,1)))\n",
    "# model.add(Dense(1))\n",
    "\n",
    "# # 2. compile network\n",
    "# model.compile(optimizer='adam', loss='mean_squared_error')\n",
    "# # 3. fit network\n",
    "# history = model.fit(X, y, epochs=1000, batch_size=len(X), verbose=0)\n",
    "# # 4. evaluate network\n",
    "# loss = model.evaluate(X, y, verbose=0)\n",
    "# print(loss)\n",
    "# # 5. make predictions\n",
    "# predictions = model.predict(X, verbose=0)\n",
    "# print(predictions[:, 0])"
   ]
  },
  {
   "cell_type": "code",
   "execution_count": null,
   "metadata": {},
   "outputs": [],
   "source": []
  },
  {
   "cell_type": "code",
   "execution_count": null,
   "metadata": {},
   "outputs": [],
   "source": []
  },
  {
   "cell_type": "code",
   "execution_count": null,
   "metadata": {},
   "outputs": [],
   "source": []
  },
  {
   "cell_type": "code",
   "execution_count": 4,
   "metadata": {},
   "outputs": [
    {
     "name": "stdout",
     "output_type": "stream",
     "text": [
      "[[['state0_episode_0', 'action0_episode_0', 'reward0_episode_0', 'next_state0_episode_0'], ['state1_episode_0', 'action1_episode_0', 'reward1_episode_0', 'next_state1_episode_0'], ['state2_episode_0', 'action2_episode_0', 'reward2_episode_0', 'next_state2_episode_0'], ['state3_episode_0', 'action3_episode_0', 'reward3_episode_0', 'next_state3_episode_0'], ['state4_episode_0', 'action4_episode_0', 'reward4_episode_0', 'next_state4_episode_0'], ['state5_episode_0', 'action5_episode_0', 'reward5_episode_0', 'next_state5_episode_0'], ['state6_episode_0', 'action6_episode_0', 'reward6_episode_0', 'next_state6_episode_0'], ['state7_episode_0', 'action7_episode_0', 'reward7_episode_0', 'next_state7_episode_0'], ['state8_episode_0', 'action8_episode_0', 'reward8_episode_0', 'next_state8_episode_0'], ['state9_episode_0', 'action9_episode_0', 'reward9_episode_0', 'next_state9_episode_0']], [['state0_episode_1', 'action0_episode_1', 'reward0_episode_1', 'next_state0_episode_1'], ['state1_episode_1', 'action1_episode_1', 'reward1_episode_1', 'next_state1_episode_1'], ['state2_episode_1', 'action2_episode_1', 'reward2_episode_1', 'next_state2_episode_1'], ['state3_episode_1', 'action3_episode_1', 'reward3_episode_1', 'next_state3_episode_1'], ['state4_episode_1', 'action4_episode_1', 'reward4_episode_1', 'next_state4_episode_1'], ['state5_episode_1', 'action5_episode_1', 'reward5_episode_1', 'next_state5_episode_1'], ['state6_episode_1', 'action6_episode_1', 'reward6_episode_1', 'next_state6_episode_1'], ['state7_episode_1', 'action7_episode_1', 'reward7_episode_1', 'next_state7_episode_1'], ['state8_episode_1', 'action8_episode_1', 'reward8_episode_1', 'next_state8_episode_1'], ['state9_episode_1', 'action9_episode_1', 'reward9_episode_1', 'next_state9_episode_1']], [['state0_episode_2', 'action0_episode_2', 'reward0_episode_2', 'next_state0_episode_2'], ['state1_episode_2', 'action1_episode_2', 'reward1_episode_2', 'next_state1_episode_2'], ['state2_episode_2', 'action2_episode_2', 'reward2_episode_2', 'next_state2_episode_2'], ['state3_episode_2', 'action3_episode_2', 'reward3_episode_2', 'next_state3_episode_2'], ['state4_episode_2', 'action4_episode_2', 'reward4_episode_2', 'next_state4_episode_2'], ['state5_episode_2', 'action5_episode_2', 'reward5_episode_2', 'next_state5_episode_2'], ['state6_episode_2', 'action6_episode_2', 'reward6_episode_2', 'next_state6_episode_2'], ['state7_episode_2', 'action7_episode_2', 'reward7_episode_2', 'next_state7_episode_2'], ['state8_episode_2', 'action8_episode_2', 'reward8_episode_2', 'next_state8_episode_2'], ['state9_episode_2', 'action9_episode_2', 'reward9_episode_2', 'next_state9_episode_2']], [['state0_episode_3', 'action0_episode_3', 'reward0_episode_3', 'next_state0_episode_3'], ['state1_episode_3', 'action1_episode_3', 'reward1_episode_3', 'next_state1_episode_3'], ['state2_episode_3', 'action2_episode_3', 'reward2_episode_3', 'next_state2_episode_3'], ['state3_episode_3', 'action3_episode_3', 'reward3_episode_3', 'next_state3_episode_3'], ['state4_episode_3', 'action4_episode_3', 'reward4_episode_3', 'next_state4_episode_3'], ['state5_episode_3', 'action5_episode_3', 'reward5_episode_3', 'next_state5_episode_3'], ['state6_episode_3', 'action6_episode_3', 'reward6_episode_3', 'next_state6_episode_3'], ['state7_episode_3', 'action7_episode_3', 'reward7_episode_3', 'next_state7_episode_3'], ['state8_episode_3', 'action8_episode_3', 'reward8_episode_3', 'next_state8_episode_3'], ['state9_episode_3', 'action9_episode_3', 'reward9_episode_3', 'next_state9_episode_3']], [['state0_episode_4', 'action0_episode_4', 'reward0_episode_4', 'next_state0_episode_4'], ['state1_episode_4', 'action1_episode_4', 'reward1_episode_4', 'next_state1_episode_4'], ['state2_episode_4', 'action2_episode_4', 'reward2_episode_4', 'next_state2_episode_4'], ['state3_episode_4', 'action3_episode_4', 'reward3_episode_4', 'next_state3_episode_4'], ['state4_episode_4', 'action4_episode_4', 'reward4_episode_4', 'next_state4_episode_4'], ['state5_episode_4', 'action5_episode_4', 'reward5_episode_4', 'next_state5_episode_4'], ['state6_episode_4', 'action6_episode_4', 'reward6_episode_4', 'next_state6_episode_4'], ['state7_episode_4', 'action7_episode_4', 'reward7_episode_4', 'next_state7_episode_4'], ['state8_episode_4', 'action8_episode_4', 'reward8_episode_4', 'next_state8_episode_4'], ['state9_episode_4', 'action9_episode_4', 'reward9_episode_4', 'next_state9_episode_4']], [['state0_episode_5', 'action0_episode_5', 'reward0_episode_5', 'next_state0_episode_5'], ['state1_episode_5', 'action1_episode_5', 'reward1_episode_5', 'next_state1_episode_5'], ['state2_episode_5', 'action2_episode_5', 'reward2_episode_5', 'next_state2_episode_5'], ['state3_episode_5', 'action3_episode_5', 'reward3_episode_5', 'next_state3_episode_5'], ['state4_episode_5', 'action4_episode_5', 'reward4_episode_5', 'next_state4_episode_5'], ['state5_episode_5', 'action5_episode_5', 'reward5_episode_5', 'next_state5_episode_5'], ['state6_episode_5', 'action6_episode_5', 'reward6_episode_5', 'next_state6_episode_5'], ['state7_episode_5', 'action7_episode_5', 'reward7_episode_5', 'next_state7_episode_5'], ['state8_episode_5', 'action8_episode_5', 'reward8_episode_5', 'next_state8_episode_5'], ['state9_episode_5', 'action9_episode_5', 'reward9_episode_5', 'next_state9_episode_5']], [['state0_episode_6', 'action0_episode_6', 'reward0_episode_6', 'next_state0_episode_6'], ['state1_episode_6', 'action1_episode_6', 'reward1_episode_6', 'next_state1_episode_6'], ['state2_episode_6', 'action2_episode_6', 'reward2_episode_6', 'next_state2_episode_6'], ['state3_episode_6', 'action3_episode_6', 'reward3_episode_6', 'next_state3_episode_6'], ['state4_episode_6', 'action4_episode_6', 'reward4_episode_6', 'next_state4_episode_6'], ['state5_episode_6', 'action5_episode_6', 'reward5_episode_6', 'next_state5_episode_6'], ['state6_episode_6', 'action6_episode_6', 'reward6_episode_6', 'next_state6_episode_6'], ['state7_episode_6', 'action7_episode_6', 'reward7_episode_6', 'next_state7_episode_6'], ['state8_episode_6', 'action8_episode_6', 'reward8_episode_6', 'next_state8_episode_6'], ['state9_episode_6', 'action9_episode_6', 'reward9_episode_6', 'next_state9_episode_6']], [['state0_episode_7', 'action0_episode_7', 'reward0_episode_7', 'next_state0_episode_7'], ['state1_episode_7', 'action1_episode_7', 'reward1_episode_7', 'next_state1_episode_7'], ['state2_episode_7', 'action2_episode_7', 'reward2_episode_7', 'next_state2_episode_7'], ['state3_episode_7', 'action3_episode_7', 'reward3_episode_7', 'next_state3_episode_7'], ['state4_episode_7', 'action4_episode_7', 'reward4_episode_7', 'next_state4_episode_7'], ['state5_episode_7', 'action5_episode_7', 'reward5_episode_7', 'next_state5_episode_7'], ['state6_episode_7', 'action6_episode_7', 'reward6_episode_7', 'next_state6_episode_7'], ['state7_episode_7', 'action7_episode_7', 'reward7_episode_7', 'next_state7_episode_7'], ['state8_episode_7', 'action8_episode_7', 'reward8_episode_7', 'next_state8_episode_7'], ['state9_episode_7', 'action9_episode_7', 'reward9_episode_7', 'next_state9_episode_7']], [['state0_episode_8', 'action0_episode_8', 'reward0_episode_8', 'next_state0_episode_8'], ['state1_episode_8', 'action1_episode_8', 'reward1_episode_8', 'next_state1_episode_8'], ['state2_episode_8', 'action2_episode_8', 'reward2_episode_8', 'next_state2_episode_8'], ['state3_episode_8', 'action3_episode_8', 'reward3_episode_8', 'next_state3_episode_8'], ['state4_episode_8', 'action4_episode_8', 'reward4_episode_8', 'next_state4_episode_8'], ['state5_episode_8', 'action5_episode_8', 'reward5_episode_8', 'next_state5_episode_8'], ['state6_episode_8', 'action6_episode_8', 'reward6_episode_8', 'next_state6_episode_8'], ['state7_episode_8', 'action7_episode_8', 'reward7_episode_8', 'next_state7_episode_8'], ['state8_episode_8', 'action8_episode_8', 'reward8_episode_8', 'next_state8_episode_8'], ['state9_episode_8', 'action9_episode_8', 'reward9_episode_8', 'next_state9_episode_8']], [['state0_episode_9', 'action0_episode_9', 'reward0_episode_9', 'next_state0_episode_9'], ['state1_episode_9', 'action1_episode_9', 'reward1_episode_9', 'next_state1_episode_9'], ['state2_episode_9', 'action2_episode_9', 'reward2_episode_9', 'next_state2_episode_9'], ['state3_episode_9', 'action3_episode_9', 'reward3_episode_9', 'next_state3_episode_9'], ['state4_episode_9', 'action4_episode_9', 'reward4_episode_9', 'next_state4_episode_9'], ['state5_episode_9', 'action5_episode_9', 'reward5_episode_9', 'next_state5_episode_9'], ['state6_episode_9', 'action6_episode_9', 'reward6_episode_9', 'next_state6_episode_9'], ['state7_episode_9', 'action7_episode_9', 'reward7_episode_9', 'next_state7_episode_9'], ['state8_episode_9', 'action8_episode_9', 'reward8_episode_9', 'next_state8_episode_9'], ['state9_episode_9', 'action9_episode_9', 'reward9_episode_9', 'next_state9_episode_9']]]\n",
      "\n"
     ]
    }
   ],
   "source": [
    "import random\n",
    "import numpy as np\n",
    "\n",
    "\n",
    "number_of_cells_per_lane = 10\n",
    "# input_shape = (number_of_cells_per_lane, 8, 1)\n",
    "input_shape = 1\n",
    "num_actions = 4\n",
    "# num_actions = 1\n",
    "sequence_length = 3\n",
    "\n",
    "\n",
    "\n",
    "samples = []\n",
    "\n",
    "\n",
    "for ep in range(10):\n",
    "    buffer = []\n",
    "    for s in range(10):\n",
    "        buffer.append([\"state\"+str(s)+\"_episode_\"+str(ep), \"action\"+str(s)+\"_episode_\"+str(ep), \"reward\"+str(s)+\"_episode_\"+str(ep), \"next_state\"+str(s)+\"_episode_\"+str(ep)])\n",
    "    samples.append(buffer)\n",
    "print(samples)\n",
    "print(\"\")\n",
    "\n",
    "\n",
    "\n"
   ]
  },
  {
   "cell_type": "code",
   "execution_count": 5,
   "metadata": {},
   "outputs": [
    {
     "name": "stdout",
     "output_type": "stream",
     "text": [
      "[[['state7_episode_5', 'action7_episode_5', 'reward7_episode_5', 'next_state7_episode_5'], ['state8_episode_5', 'action8_episode_5', 'reward8_episode_5', 'next_state8_episode_5'], ['state9_episode_5', 'action9_episode_5', 'reward9_episode_5', 'next_state9_episode_5']], [['state4_episode_4', 'action4_episode_4', 'reward4_episode_4', 'next_state4_episode_4'], ['state5_episode_4', 'action5_episode_4', 'reward5_episode_4', 'next_state5_episode_4'], ['state6_episode_4', 'action6_episode_4', 'reward6_episode_4', 'next_state6_episode_4']], [['state0_episode_6', 'action0_episode_6', 'reward0_episode_6', 'next_state0_episode_6'], ['state1_episode_6', 'action1_episode_6', 'reward1_episode_6', 'next_state1_episode_6'], ['state2_episode_6', 'action2_episode_6', 'reward2_episode_6', 'next_state2_episode_6']], [['state6_episode_2', 'action6_episode_2', 'reward6_episode_2', 'next_state6_episode_2'], ['state7_episode_2', 'action7_episode_2', 'reward7_episode_2', 'next_state7_episode_2'], ['state8_episode_2', 'action8_episode_2', 'reward8_episode_2', 'next_state8_episode_2']], [['state1_episode_0', 'action1_episode_0', 'reward1_episode_0', 'next_state1_episode_0'], ['state2_episode_0', 'action2_episode_0', 'reward2_episode_0', 'next_state2_episode_0'], ['state3_episode_0', 'action3_episode_0', 'reward3_episode_0', 'next_state3_episode_0']]]\n"
     ]
    }
   ],
   "source": [
    "sampled_episodes = random.sample(samples, 5)\n",
    "# print(\"sampled_epsiodes\", sampled_epsiodes)\n",
    "\n",
    "batch = []              \n",
    "for episode in sampled_episodes:\n",
    "    start_point = random.randint(0,len(episode)-sequence_length)\n",
    "#     print(start_point)\n",
    "    batch.append(episode[start_point:start_point+sequence_length])\n",
    "    \n",
    "print(batch)\n",
    "\n"
   ]
  },
  {
   "cell_type": "code",
   "execution_count": null,
   "metadata": {},
   "outputs": [],
   "source": []
  },
  {
   "cell_type": "code",
   "execution_count": 6,
   "metadata": {},
   "outputs": [
    {
     "name": "stdout",
     "output_type": "stream",
     "text": [
      "(5, 3, 1)\n",
      "(5, 3, 4)\n"
     ]
    }
   ],
   "source": [
    "x = np.zeros((len(batch), sequence_length, input_shape), dtype='S16') #from online network\n",
    "y = np.zeros((len(batch), sequence_length, num_actions))  #from target network\n",
    "\n",
    "print(x.shape)\n",
    "print(y.shape)\n",
    "\n",
    "# print(len(batch))"
   ]
  },
  {
   "cell_type": "code",
   "execution_count": 7,
   "metadata": {},
   "outputs": [
    {
     "name": "stdout",
     "output_type": "stream",
     "text": [
      "[['state7_episode_5' 'state8_episode_5' 'state9_episode_5']\n",
      " ['state4_episode_4' 'state5_episode_4' 'state6_episode_4']\n",
      " ['state0_episode_6' 'state1_episode_6' 'state2_episode_6']\n",
      " ['state6_episode_2' 'state7_episode_2' 'state8_episode_2']\n",
      " ['state1_episode_0' 'state2_episode_0' 'state3_episode_0']] (5, 3)\n",
      "[['next_state7_episode_5' 'next_state8_episode_5' 'next_state9_episode_5']\n",
      " ['next_state4_episode_4' 'next_state5_episode_4' 'next_state6_episode_4']\n",
      " ['next_state0_episode_6' 'next_state1_episode_6' 'next_state2_episode_6']\n",
      " ['next_state6_episode_2' 'next_state7_episode_2' 'next_state8_episode_2']\n",
      " ['next_state1_episode_0' 'next_state2_episode_0' 'next_state3_episode_0']]\n"
     ]
    }
   ],
   "source": [
    "# states = [len(batch), sequence_length], dtype='S16')\n",
    "states = []\n",
    "next_states = []\n",
    "\n",
    "for index_sequence, sequence in enumerate(batch):\n",
    "    states.append( np.array([val[0] for val in sequence]) )\n",
    "    next_states.append( np.array([val[3] for val in sequence]) )\n",
    "\n",
    "states = np.asarray(states)\n",
    "next_states = np.asarray(next_states)\n",
    "\n",
    "    \n",
    "\n",
    "print(states, states.shape )\n",
    "print(next_states)"
   ]
  },
  {
   "cell_type": "code",
   "execution_count": 8,
   "metadata": {},
   "outputs": [
    {
     "name": "stdout",
     "output_type": "stream",
     "text": [
      "(5, 3, 4)\n",
      "current q:  [0. 0. 0. 0.]\n",
      "current q:  [0. 0. 0. 0.]\n",
      "current q:  [0. 0. 0. 0.]\n",
      "current q:  [0. 0. 0. 0.]\n",
      "current q:  [0. 0. 0. 0.]\n",
      "current q:  [0. 0. 0. 0.]\n",
      "current q:  [0. 0. 0. 0.]\n",
      "current q:  [0. 0. 0. 0.]\n",
      "current q:  [0. 0. 0. 0.]\n",
      "current q:  [0. 0. 0. 0.]\n",
      "current q:  [0. 0. 0. 0.]\n",
      "current q:  [0. 0. 0. 0.]\n",
      "current q:  [0. 0. 0. 0.]\n",
      "current q:  [0. 0. 0. 0.]\n",
      "current q:  [0. 0. 0. 0.]\n",
      "x: , [[[b'state7_episode_5']\n",
      "  [b'state8_episode_5']\n",
      "  [b'state9_episode_5']]\n",
      "\n",
      " [[b'state4_episode_4']\n",
      "  [b'state5_episode_4']\n",
      "  [b'state6_episode_4']]\n",
      "\n",
      " [[b'state0_episode_6']\n",
      "  [b'state1_episode_6']\n",
      "  [b'state2_episode_6']]\n",
      "\n",
      " [[b'state6_episode_2']\n",
      "  [b'state7_episode_2']\n",
      "  [b'state8_episode_2']]\n",
      "\n",
      " [[b'state1_episode_0']\n",
      "  [b'state2_episode_0']\n",
      "  [b'state3_episode_0']]] (5, 3, 1)\n",
      "y: , [[[ 0.  0.  0.  0.]\n",
      "  [ 0.  9.  0.  0.]\n",
      "  [ 0.  0.  2.  0.]]\n",
      "\n",
      " [[ 0.  0.  0.  4.]\n",
      "  [ 0.  0.  0.  8.]\n",
      "  [ 0.  0.  3.  0.]]\n",
      "\n",
      " [[ 0.  0.  7.  0.]\n",
      "  [ 9.  0.  0.  0.]\n",
      "  [ 0.  0.  0.  9.]]\n",
      "\n",
      " [[ 0.  0. 10.  0.]\n",
      "  [ 0.  0.  0.  2.]\n",
      "  [ 0.  0.  0. 10.]]\n",
      "\n",
      " [[ 0.  0.  0.  0.]\n",
      "  [ 0.  0.  3.  0.]\n",
      "  [ 0.  0.  0.  9.]]] (5, 3, 4)\n"
     ]
    }
   ],
   "source": [
    "q_s_a = np.zeros((len(batch), 3, 4))\n",
    "q_s_a_d = np.zeros((len(batch),3, 4))\n",
    "print(q_s_a.shape)\n",
    "\n",
    "gamma = 0.5\n",
    "\n",
    "for index_sequence, sequence in enumerate(batch):\n",
    "    for index_step, step in enumerate(sequence):\n",
    "        state, action, reward, _ = step[0], step[1], step[2], step[3]  # extract data from one sample\n",
    "    \n",
    "#         print(index_sequence, \"....\", index_step)\n",
    "        current_q = q_s_a[index_sequence][index_step]  # get the Q(state) predicted before\n",
    "        print(\"current q: \",current_q)\n",
    "        \n",
    "#         print(\"action: \", action) #action will be 0,1,2,3\n",
    "        action = random.randint(0, 3)\n",
    "#         print(\"action: \", action)\n",
    "        \n",
    "            #update with combination of online and target network\n",
    "        current_q[action] = random.randint(0,10) #reward + \"gamma * np.amax(q_s_a_d[index_sequence][index_step])\"  # update Q(state, action)\n",
    "        x[index_sequence][index_step] = state\n",
    "        y[index_sequence][index_step] = current_q\n",
    "        \n",
    "print(\"x: ,\", x, x.shape)\n",
    "print(\"y: ,\", y,y.shape)\n",
    "        \n",
    "        \n",
    "# print(\"current-q \", current_q)\n",
    "\n",
    "# x[i] = state\n",
    "#         y[i] = current_q  # Q(state) that includes the updated action value\n",
    "\n",
    "        \n",
    "\n",
    "\n",
    "        "
   ]
  },
  {
   "cell_type": "code",
   "execution_count": null,
   "metadata": {},
   "outputs": [],
   "source": []
  },
  {
   "cell_type": "code",
   "execution_count": null,
   "metadata": {},
   "outputs": [],
   "source": []
  },
  {
   "cell_type": "code",
   "execution_count": null,
   "metadata": {},
   "outputs": [],
   "source": []
  },
  {
   "cell_type": "code",
   "execution_count": null,
   "metadata": {},
   "outputs": [],
   "source": []
  },
  {
   "cell_type": "code",
   "execution_count": null,
   "metadata": {},
   "outputs": [],
   "source": []
  },
  {
   "cell_type": "code",
   "execution_count": null,
   "metadata": {},
   "outputs": [],
   "source": []
  },
  {
   "cell_type": "code",
   "execution_count": 9,
   "metadata": {},
   "outputs": [],
   "source": [
    "import numpy as np"
   ]
  },
  {
   "cell_type": "code",
   "execution_count": 10,
   "metadata": {},
   "outputs": [
    {
     "name": "stdout",
     "output_type": "stream",
     "text": [
      "[[[0. 0. 0. 0.]\n",
      "  [0. 0. 0. 0.]\n",
      "  [0. 0. 0. 0.]]\n",
      "\n",
      " [[0. 0. 0. 0.]\n",
      "  [0. 0. 0. 0.]\n",
      "  [0. 0. 0. 0.]]]\n",
      "-----------\n",
      "[[[0. 0. 0. 0.]\n",
      "  [0. 0. 0. 0.]\n",
      "  [0. 0. 0. 0.]]\n",
      "\n",
      " [[2. 0. 0. 0.]\n",
      "  [0. 0. 0. 0.]\n",
      "  [0. 0. 0. 0.]]]\n"
     ]
    }
   ],
   "source": [
    "a = np.zeros((2,3,4))\n",
    "print(a)\n",
    "print(\"-----------\")\n",
    "\n",
    "\n",
    "a[1][0][0]=2\n",
    "print(a)\n",
    "\n",
    "\n"
   ]
  },
  {
   "cell_type": "code",
   "execution_count": 11,
   "metadata": {},
   "outputs": [
    {
     "name": "stdout",
     "output_type": "stream",
     "text": [
      "[1]\n"
     ]
    }
   ],
   "source": [
    "b=[]\n",
    "\n",
    "b.append(1)\n",
    "\n",
    "print(b)"
   ]
  },
  {
   "cell_type": "code",
   "execution_count": 12,
   "metadata": {},
   "outputs": [
    {
     "name": "stdout",
     "output_type": "stream",
     "text": [
      "[4.5 4.5]\n"
     ]
    }
   ],
   "source": [
    "import pandas as pd\n",
    "\n",
    "def rollavg_pandas(a,n):\n",
    "        'Pandas rolling average over data set a with window size n. Returns a centered np array of same size'\n",
    "        return np.ravel(pd.DataFrame(a).rolling(n, center=True, min_periods=1).mean().to_numpy())\n",
    "\n",
    "\n",
    "data = [1,8]\n",
    "    \n",
    "roling_window = 8\n",
    "        # if (len(data>=roling_wind\n",
    "data = rollavg_pandas(data, roling_window)\n",
    "\n",
    "print(data)"
   ]
  },
  {
   "cell_type": "code",
   "execution_count": 13,
   "metadata": {},
   "outputs": [
    {
     "name": "stdout",
     "output_type": "stream",
     "text": [
      "[1, 2, [1, 2, 3, 4, 5, 6]]\n"
     ]
    }
   ],
   "source": [
    "def hello():\n",
    "    q=1\n",
    "    w=2\n",
    "    e=[1,2,3,4,5,6]\n",
    "    \n",
    "    return [q,w,e]\n",
    "\n",
    "print(hello())"
   ]
  },
  {
   "cell_type": "code",
   "execution_count": null,
   "metadata": {},
   "outputs": [],
   "source": []
  },
  {
   "cell_type": "code",
   "execution_count": null,
   "metadata": {},
   "outputs": [],
   "source": []
  },
  {
   "cell_type": "code",
   "execution_count": 14,
   "metadata": {},
   "outputs": [
    {
     "name": "stdout",
     "output_type": "stream",
     "text": [
      "[0. 0. 0. 0.]\n"
     ]
    }
   ],
   "source": [
    "print(np.zeros(4))"
   ]
  },
  {
   "cell_type": "code",
   "execution_count": 15,
   "metadata": {},
   "outputs": [
    {
     "name": "stdout",
     "output_type": "stream",
     "text": [
      "[(10, 8, 2), 4, 1]\n",
      "[(10, 8, 2), 4, 1]\n"
     ]
    }
   ],
   "source": [
    "#SET STATE DIMENSION PARAMETERS\n",
    "number_of_cells_per_lane = 10\n",
    "conv_state_shape = (number_of_cells_per_lane, 8, 2)\n",
    "green_phase_state_shape = 4\n",
    "elapsed_time_state_shape = 1\n",
    "state_shape = [conv_state_shape, green_phase_state_shape, elapsed_time_state_shape]\n",
    " \n",
    "print(state_shape)\n",
    "\n",
    "print([state_shape[0], state_shape[1], state_shape[2]])\n"
   ]
  },
  {
   "cell_type": "code",
   "execution_count": 16,
   "metadata": {},
   "outputs": [
    {
     "name": "stdout",
     "output_type": "stream",
     "text": [
      "[0. 0. 1. 0.]\n"
     ]
    }
   ],
   "source": [
    "green_phase_state = np.zeros(state_shape[1])\n",
    "green_phase_state[2] = 1\n",
    "\n",
    "print(green_phase_state)"
   ]
  },
  {
   "cell_type": "code",
   "execution_count": null,
   "metadata": {},
   "outputs": [],
   "source": []
  },
  {
   "cell_type": "code",
   "execution_count": null,
   "metadata": {},
   "outputs": [],
   "source": []
  },
  {
   "cell_type": "code",
   "execution_count": null,
   "metadata": {},
   "outputs": [],
   "source": []
  },
  {
   "cell_type": "code",
   "execution_count": 138,
   "metadata": {},
   "outputs": [
    {
     "name": "stdout",
     "output_type": "stream",
     "text": [
      "(15, 8, 3)\n",
      "(2, 8, 2)\n",
      "(4,)\n"
     ]
    }
   ],
   "source": [
    "L = []\n",
    "\n",
    "\n",
    "for x in range(15):\n",
    "    temp = []\n",
    "    for y in range (8):\n",
    "        temp.append([np.random.rand(2,8,2), np.random.rand(4), 23])\n",
    "    L.append(temp)\n",
    "              \n",
    "# print(L)\n",
    "L = np.asarray(L)\n",
    "print(L.shape)\n",
    "print(L[0][0][0].shape)\n",
    "print(L[0][0][1].shape)\n",
    "# print(L[0][0][2].shape)\n",
    "\n"
   ]
  },
  {
   "cell_type": "code",
   "execution_count": 154,
   "metadata": {},
   "outputs": [
    {
     "name": "stdout",
     "output_type": "stream",
     "text": [
      "------\n",
      "K1:  (15, 8) [[array([0.72194925, 0.13249349, 0.23985721, 0.15108811])\n",
      "  array([0.74695959, 0.83746817, 0.78686262, 0.21518637])\n",
      "  array([0.31017053, 0.28269686, 0.11470445, 0.2025268 ])\n",
      "  array([0.42145421, 0.14231809, 0.51734662, 0.57608904])\n",
      "  array([0.47058012, 0.62286882, 0.95549819, 0.6581156 ])\n",
      "  array([0.66887955, 0.14706339, 0.22555752, 0.09086751])\n",
      "  array([0.71455728, 0.01795196, 0.00757105, 0.86973219])\n",
      "  array([0.7216828 , 0.28744799, 0.71812129, 0.04499142])]\n",
      " [array([0.34896867, 0.73015786, 0.76751576, 0.46391517])\n",
      "  array([0.69769706, 0.06636875, 0.99339521, 0.2065901 ])\n",
      "  array([0.0088289 , 0.12189542, 0.36458536, 0.44945449])\n",
      "  array([0.21771335, 0.91014727, 0.23446575, 0.10093442])\n",
      "  array([0.93146427, 0.50093307, 0.9493339 , 0.25024973])\n",
      "  array([0.64035396, 0.84648585, 0.25918246, 0.68870684])\n",
      "  array([0.78421616, 0.90322299, 0.6068617 , 0.96936303])\n",
      "  array([0.02092947, 0.52917791, 0.14504042, 0.70590951])]\n",
      " [array([0.61863311, 0.04095308, 0.83137789, 0.27972616])\n",
      "  array([0.51351734, 0.48144137, 0.97002899, 0.8024947 ])\n",
      "  array([0.24153801, 0.7502343 , 0.16700492, 0.65531479])\n",
      "  array([0.83949797, 0.71122913, 0.93312819, 0.93239355])\n",
      "  array([0.12261572, 0.63414652, 0.68302556, 0.187631  ])\n",
      "  array([0.11699154, 0.17605902, 0.97318809, 0.19631284])\n",
      "  array([0.10710666, 0.7928232 , 0.04211195, 0.11487779])\n",
      "  array([0.73461113, 0.56444387, 0.02514896, 0.97791292])]\n",
      " [array([0.86130948, 0.01495453, 0.74557364, 0.92859813])\n",
      "  array([0.61175363, 0.88331464, 0.99907399, 0.20994422])\n",
      "  array([0.83554857, 0.4855637 , 0.2079912 , 0.6456301 ])\n",
      "  array([0.09339368, 0.26216663, 0.53199752, 0.27857695])\n",
      "  array([0.14101252, 0.7710697 , 0.24700442, 0.8204988 ])\n",
      "  array([0.44149905, 0.20343823, 0.48509449, 0.2532605 ])\n",
      "  array([0.95231621, 0.18480578, 0.88846885, 0.46080798])\n",
      "  array([0.19181439, 0.39839081, 0.03748632, 0.46444914])]\n",
      " [array([0.03962987, 0.74984409, 0.67886349, 0.32980757])\n",
      "  array([0.0330692 , 0.24475547, 0.353522  , 0.73413427])\n",
      "  array([0.33988194, 0.14321309, 0.78379873, 0.54841769])\n",
      "  array([0.97445296, 0.37041514, 0.63130542, 0.95938802])\n",
      "  array([0.15140777, 0.17008461, 0.09135176, 0.40516235])\n",
      "  array([0.12457795, 0.95903214, 0.33051103, 0.65188993])\n",
      "  array([0.17852871, 0.51944784, 0.87213089, 0.24709906])\n",
      "  array([0.15980828, 0.07905801, 0.26793496, 0.81887188])]\n",
      " [array([0.66576535, 0.14759842, 0.97650946, 0.78839034])\n",
      "  array([0.74140229, 0.97735745, 0.65546189, 0.01703173])\n",
      "  array([0.28812763, 0.4952944 , 0.80309718, 0.40531689])\n",
      "  array([0.65223833, 0.47396351, 0.2061866 , 0.9050129 ])\n",
      "  array([0.76487686, 0.21465653, 0.57847229, 0.91626804])\n",
      "  array([0.54916988, 0.03601557, 0.60810312, 0.31659716])\n",
      "  array([0.91129257, 0.25572205, 0.76764345, 0.35402169])\n",
      "  array([0.52091796, 0.19073792, 0.02301453, 0.05689403])]\n",
      " [array([0.34511556, 0.25907465, 0.53127723, 0.08798726])\n",
      "  array([0.91235509, 0.39667076, 0.08862748, 0.97333324])\n",
      "  array([0.14781904, 0.69485323, 0.63107333, 0.77508516])\n",
      "  array([0.37794956, 0.68467451, 0.86656244, 0.72624136])\n",
      "  array([0.16457731, 0.05821972, 0.03163039, 0.47282612])\n",
      "  array([0.16956593, 0.71196224, 0.5637428 , 0.03332534])\n",
      "  array([0.59346368, 0.27810072, 0.05816258, 0.37562329])\n",
      "  array([0.48369849, 0.61108967, 0.35371808, 0.0608729 ])]\n",
      " [array([0.77654711, 0.31578512, 0.81397268, 0.39498728])\n",
      "  array([0.25597697, 0.63414092, 0.91129936, 0.32753821])\n",
      "  array([0.99901288, 0.95541004, 0.17715663, 0.1540274 ])\n",
      "  array([0.68681577, 0.89467882, 0.35174739, 0.22551255])\n",
      "  array([0.54867916, 0.57471632, 0.81716643, 0.76063393])\n",
      "  array([0.867423  , 0.14947723, 0.24510432, 0.11151583])\n",
      "  array([0.56841996, 0.62929058, 0.87934709, 0.23887638])\n",
      "  array([0.98850812, 0.15078863, 0.27392723, 0.74609682])]\n",
      " [array([0.98208705, 0.89489306, 0.49497034, 0.20087673])\n",
      "  array([0.49399658, 0.48768792, 0.72483431, 0.79326575])\n",
      "  array([0.42688208, 0.2680941 , 0.73951269, 0.29879408])\n",
      "  array([0.74847073, 0.02315178, 0.31636625, 0.21236197])\n",
      "  array([0.48024701, 0.83501081, 0.47915115, 0.96975765])\n",
      "  array([0.11898997, 0.05224581, 0.45693115, 0.58442229])\n",
      "  array([0.14748716, 0.07932426, 0.55555376, 0.50486519])\n",
      "  array([0.89738282, 0.80344147, 0.10363817, 0.93534156])]\n",
      " [array([0.81437641, 0.2749738 , 0.04584119, 0.98304869])\n",
      "  array([0.10468786, 0.73465606, 0.40083573, 0.1656307 ])\n",
      "  array([0.20899815, 0.53837212, 0.17645159, 0.01688927])\n",
      "  array([0.25875208, 0.7577222 , 0.88670554, 0.48382305])\n",
      "  array([0.36112478, 0.84012337, 0.06067475, 0.65690641])\n",
      "  array([0.24631795, 0.85385049, 0.14196818, 0.86647746])\n",
      "  array([0.03451291, 0.26563604, 0.80752759, 0.57063245])\n",
      "  array([0.20609254, 0.9509754 , 0.99833458, 0.11017949])]\n",
      " [array([0.36932777, 0.2256952 , 0.38613808, 0.53428384])\n",
      "  array([0.45363556, 0.06324342, 0.32684933, 0.59283681])\n",
      "  array([0.99661048, 0.58457244, 0.32360246, 0.37196869])\n",
      "  array([0.66765315, 0.13471174, 0.36590183, 0.98516749])\n",
      "  array([0.62752277, 0.75533578, 0.32527269, 0.46276799])\n",
      "  array([0.18552859, 0.50278508, 0.63426512, 0.28562018])\n",
      "  array([0.91668609, 0.807511  , 0.25271354, 0.95071125])\n",
      "  array([0.1894756 , 0.89251038, 0.67130401, 0.60244689])]\n",
      " [array([0.4829185 , 0.71837843, 0.54911969, 0.53017821])\n",
      "  array([0.96317872, 0.00620091, 0.11203733, 0.32251971])\n",
      "  array([0.72246708, 0.70709384, 0.01034921, 0.22252787])\n",
      "  array([0.03272419, 0.93163641, 0.7383865 , 0.02292286])\n",
      "  array([0.21323265, 0.29206622, 0.60399522, 0.51545032])\n",
      "  array([0.09064404, 0.18557032, 0.42494065, 0.22749743])\n",
      "  array([0.60375768, 0.28329017, 0.42957882, 0.47012582])\n",
      "  array([0.91130867, 0.97237324, 0.40560786, 0.77644938])]\n",
      " [array([0.8317624 , 0.17915675, 0.22399708, 0.76992034])\n",
      "  array([0.15553072, 0.28203784, 0.60264769, 0.0397057 ])\n",
      "  array([0.22357659, 0.67048942, 0.3112077 , 0.80932683])\n",
      "  array([0.4367443 , 0.95542744, 0.811673  , 0.55923037])\n",
      "  array([0.82111924, 0.37634173, 0.51752624, 0.2730444 ])\n",
      "  array([0.32477343, 0.6123255 , 0.98245705, 0.11357861])\n",
      "  array([0.25935368, 0.10134687, 0.37529669, 0.62886179])\n",
      "  array([0.27439784, 0.26383754, 0.83695754, 0.98004771])]\n",
      " [array([0.79031899, 0.0990872 , 0.56084738, 0.95474038])\n",
      "  array([0.79638882, 0.44087854, 0.93706922, 0.08210028])\n",
      "  array([0.39119197, 0.85637003, 0.13953745, 0.66240293])\n",
      "  array([0.41915284, 0.40804151, 0.12731525, 0.51276628])\n",
      "  array([0.49832822, 0.82808244, 0.21435148, 0.12538874])\n",
      "  array([0.3850517 , 0.36010138, 0.61654649, 0.50710362])\n",
      "  array([0.39881894, 0.77965493, 0.7133244 , 0.43060231])\n",
      "  array([0.89745564, 0.54371839, 0.79144402, 0.83999696])]\n",
      " [array([0.06556128, 0.69637715, 0.60943649, 0.25692483])\n",
      "  array([0.83958213, 0.41391289, 0.90396552, 0.16723777])\n",
      "  array([0.9692188 , 0.88722812, 0.7137318 , 0.31980814])\n",
      "  array([0.99206447, 0.5383242 , 0.25193903, 0.00675596])\n",
      "  array([0.21881538, 0.04978884, 0.64127068, 0.66318729])\n",
      "  array([0.37822801, 0.26776474, 0.70920428, 0.509069  ])\n",
      "  array([0.23514723, 0.89736854, 0.980835  , 0.604711  ])\n",
      "  array([0.26970758, 0.00091744, 0.75968784, 0.88742009])]]\n",
      "-----\n",
      "(4,) [0.72194925 0.13249349 0.23985721 0.15108811] <class 'numpy.ndarray'>\n"
     ]
    }
   ],
   "source": [
    "\n",
    "\n",
    "print(\"------\")\n",
    "\n",
    "# K0 = L[:,:,0]\n",
    "K1 = L[:,:,1]\n",
    "K2 = L[:,:,2]\n",
    "print(\"K1: \", K1.shape, K1)\n",
    "\n",
    "print(\"-----\")\n",
    "print(K1[0][0].shape, K1[0][0], type(K1[0][0]))\n"
   ]
  },
  {
   "cell_type": "code",
   "execution_count": 152,
   "metadata": {},
   "outputs": [
    {
     "name": "stdout",
     "output_type": "stream",
     "text": [
      "(15, 8)\n",
      "(15, 8, 4) [[[7.21949251e-01 1.32493488e-01 2.39857210e-01 1.51088106e-01]\n",
      "  [7.46959590e-01 8.37468166e-01 7.86862618e-01 2.15186372e-01]\n",
      "  [3.10170531e-01 2.82696856e-01 1.14704445e-01 2.02526796e-01]\n",
      "  [4.21454211e-01 1.42318086e-01 5.17346620e-01 5.76089039e-01]\n",
      "  [4.70580120e-01 6.22868820e-01 9.55498192e-01 6.58115599e-01]\n",
      "  [6.68879552e-01 1.47063387e-01 2.25557516e-01 9.08675097e-02]\n",
      "  [7.14557275e-01 1.79519589e-02 7.57104575e-03 8.69732187e-01]\n",
      "  [7.21682795e-01 2.87447989e-01 7.18121287e-01 4.49914212e-02]]\n",
      "\n",
      " [[3.48968668e-01 7.30157856e-01 7.67515756e-01 4.63915166e-01]\n",
      "  [6.97697061e-01 6.63687513e-02 9.93395213e-01 2.06590099e-01]\n",
      "  [8.82889937e-03 1.21895418e-01 3.64585357e-01 4.49454492e-01]\n",
      "  [2.17713352e-01 9.10147270e-01 2.34465747e-01 1.00934421e-01]\n",
      "  [9.31464272e-01 5.00933066e-01 9.49333900e-01 2.50249729e-01]\n",
      "  [6.40353962e-01 8.46485850e-01 2.59182463e-01 6.88706837e-01]\n",
      "  [7.84216162e-01 9.03222990e-01 6.06861703e-01 9.69363027e-01]\n",
      "  [2.09294659e-02 5.29177908e-01 1.45040422e-01 7.05909509e-01]]\n",
      "\n",
      " [[6.18633113e-01 4.09530761e-02 8.31377887e-01 2.79726158e-01]\n",
      "  [5.13517340e-01 4.81441369e-01 9.70028989e-01 8.02494702e-01]\n",
      "  [2.41538011e-01 7.50234304e-01 1.67004925e-01 6.55314794e-01]\n",
      "  [8.39497970e-01 7.11229130e-01 9.33128188e-01 9.32393548e-01]\n",
      "  [1.22615719e-01 6.34146522e-01 6.83025556e-01 1.87631003e-01]\n",
      "  [1.16991544e-01 1.76059019e-01 9.73188093e-01 1.96312835e-01]\n",
      "  [1.07106662e-01 7.92823196e-01 4.21119539e-02 1.14877791e-01]\n",
      "  [7.34611127e-01 5.64443875e-01 2.51489608e-02 9.77912916e-01]]\n",
      "\n",
      " [[8.61309482e-01 1.49545310e-02 7.45573636e-01 9.28598128e-01]\n",
      "  [6.11753634e-01 8.83314643e-01 9.99073991e-01 2.09944219e-01]\n",
      "  [8.35548574e-01 4.85563697e-01 2.07991204e-01 6.45630100e-01]\n",
      "  [9.33936768e-02 2.62166631e-01 5.31997519e-01 2.78576949e-01]\n",
      "  [1.41012522e-01 7.71069696e-01 2.47004417e-01 8.20498799e-01]\n",
      "  [4.41499048e-01 2.03438230e-01 4.85094495e-01 2.53260495e-01]\n",
      "  [9.52316212e-01 1.84805778e-01 8.88468850e-01 4.60807981e-01]\n",
      "  [1.91814388e-01 3.98390810e-01 3.74863161e-02 4.64449140e-01]]\n",
      "\n",
      " [[3.96298652e-02 7.49844093e-01 6.78863489e-01 3.29807567e-01]\n",
      "  [3.30692021e-02 2.44755468e-01 3.53522001e-01 7.34134274e-01]\n",
      "  [3.39881942e-01 1.43213090e-01 7.83798733e-01 5.48417693e-01]\n",
      "  [9.74452956e-01 3.70415140e-01 6.31305416e-01 9.59388019e-01]\n",
      "  [1.51407765e-01 1.70084612e-01 9.13517620e-02 4.05162347e-01]\n",
      "  [1.24577954e-01 9.59032136e-01 3.30511034e-01 6.51889928e-01]\n",
      "  [1.78528706e-01 5.19447842e-01 8.72130894e-01 2.47099056e-01]\n",
      "  [1.59808281e-01 7.90580074e-02 2.67934959e-01 8.18871877e-01]]\n",
      "\n",
      " [[6.65765349e-01 1.47598416e-01 9.76509457e-01 7.88390342e-01]\n",
      "  [7.41402290e-01 9.77357453e-01 6.55461891e-01 1.70317287e-02]\n",
      "  [2.88127631e-01 4.95294403e-01 8.03097178e-01 4.05316886e-01]\n",
      "  [6.52238330e-01 4.73963507e-01 2.06186596e-01 9.05012904e-01]\n",
      "  [7.64876859e-01 2.14656525e-01 5.78472287e-01 9.16268041e-01]\n",
      "  [5.49169877e-01 3.60155715e-02 6.08103121e-01 3.16597157e-01]\n",
      "  [9.11292570e-01 2.55722047e-01 7.67643452e-01 3.54021687e-01]\n",
      "  [5.20917961e-01 1.90737923e-01 2.30145275e-02 5.68940265e-02]]\n",
      "\n",
      " [[3.45115560e-01 2.59074646e-01 5.31277227e-01 8.79872629e-02]\n",
      "  [9.12355085e-01 3.96670758e-01 8.86274826e-02 9.73333241e-01]\n",
      "  [1.47819044e-01 6.94853230e-01 6.31073325e-01 7.75085159e-01]\n",
      "  [3.77949565e-01 6.84674513e-01 8.66562440e-01 7.26241361e-01]\n",
      "  [1.64577306e-01 5.82197153e-02 3.16303864e-02 4.72826125e-01]\n",
      "  [1.69565929e-01 7.11962235e-01 5.63742796e-01 3.33253355e-02]\n",
      "  [5.93463677e-01 2.78100725e-01 5.81625789e-02 3.75623287e-01]\n",
      "  [4.83698492e-01 6.11089671e-01 3.53718081e-01 6.08728961e-02]]\n",
      "\n",
      " [[7.76547105e-01 3.15785116e-01 8.13972684e-01 3.94987284e-01]\n",
      "  [2.55976972e-01 6.34140919e-01 9.11299358e-01 3.27538206e-01]\n",
      "  [9.99012882e-01 9.55410042e-01 1.77156632e-01 1.54027401e-01]\n",
      "  [6.86815773e-01 8.94678822e-01 3.51747388e-01 2.25512545e-01]\n",
      "  [5.48679162e-01 5.74716323e-01 8.17166425e-01 7.60633932e-01]\n",
      "  [8.67422999e-01 1.49477232e-01 2.45104316e-01 1.11515833e-01]\n",
      "  [5.68419955e-01 6.29290581e-01 8.79347089e-01 2.38876385e-01]\n",
      "  [9.88508120e-01 1.50788626e-01 2.73927226e-01 7.46096821e-01]]\n",
      "\n",
      " [[9.82087049e-01 8.94893062e-01 4.94970344e-01 2.00876735e-01]\n",
      "  [4.93996581e-01 4.87687918e-01 7.24834312e-01 7.93265749e-01]\n",
      "  [4.26882079e-01 2.68094099e-01 7.39512692e-01 2.98794075e-01]\n",
      "  [7.48470729e-01 2.31517812e-02 3.16366251e-01 2.12361972e-01]\n",
      "  [4.80247006e-01 8.35010809e-01 4.79151145e-01 9.69757654e-01]\n",
      "  [1.18989973e-01 5.22458101e-02 4.56931150e-01 5.84422286e-01]\n",
      "  [1.47487159e-01 7.93242606e-02 5.55553760e-01 5.04865191e-01]\n",
      "  [8.97382823e-01 8.03441470e-01 1.03638166e-01 9.35341557e-01]]\n",
      "\n",
      " [[8.14376409e-01 2.74973797e-01 4.58411893e-02 9.83048692e-01]\n",
      "  [1.04687855e-01 7.34656058e-01 4.00835729e-01 1.65630699e-01]\n",
      "  [2.08998151e-01 5.38372119e-01 1.76451592e-01 1.68892672e-02]\n",
      "  [2.58752084e-01 7.57722199e-01 8.86705544e-01 4.83823053e-01]\n",
      "  [3.61124783e-01 8.40123369e-01 6.06747491e-02 6.56906409e-01]\n",
      "  [2.46317951e-01 8.53850492e-01 1.41968183e-01 8.66477462e-01]\n",
      "  [3.45129078e-02 2.65636037e-01 8.07527585e-01 5.70632454e-01]\n",
      "  [2.06092535e-01 9.50975398e-01 9.98334576e-01 1.10179489e-01]]\n",
      "\n",
      " [[3.69327769e-01 2.25695204e-01 3.86138079e-01 5.34283837e-01]\n",
      "  [4.53635563e-01 6.32434221e-02 3.26849335e-01 5.92836810e-01]\n",
      "  [9.96610484e-01 5.84572437e-01 3.23602461e-01 3.71968694e-01]\n",
      "  [6.67653152e-01 1.34711737e-01 3.65901834e-01 9.85167486e-01]\n",
      "  [6.27522770e-01 7.55335776e-01 3.25272687e-01 4.62767986e-01]\n",
      "  [1.85528585e-01 5.02785085e-01 6.34265118e-01 2.85620177e-01]\n",
      "  [9.16686092e-01 8.07511005e-01 2.52713541e-01 9.50711254e-01]\n",
      "  [1.89475597e-01 8.92510381e-01 6.71304009e-01 6.02446889e-01]]\n",
      "\n",
      " [[4.82918502e-01 7.18378431e-01 5.49119692e-01 5.30178206e-01]\n",
      "  [9.63178718e-01 6.20090720e-03 1.12037327e-01 3.22519708e-01]\n",
      "  [7.22467080e-01 7.07093838e-01 1.03492105e-02 2.22527868e-01]\n",
      "  [3.27241933e-02 9.31636409e-01 7.38386501e-01 2.29228558e-02]\n",
      "  [2.13232647e-01 2.92066220e-01 6.03995219e-01 5.15450323e-01]\n",
      "  [9.06440375e-02 1.85570317e-01 4.24940646e-01 2.27497431e-01]\n",
      "  [6.03757682e-01 2.83290168e-01 4.29578818e-01 4.70125815e-01]\n",
      "  [9.11308668e-01 9.72373235e-01 4.05607856e-01 7.76449384e-01]]\n",
      "\n",
      " [[8.31762402e-01 1.79156754e-01 2.23997075e-01 7.69920335e-01]\n",
      "  [1.55530719e-01 2.82037835e-01 6.02647695e-01 3.97056963e-02]\n",
      "  [2.23576590e-01 6.70489415e-01 3.11207697e-01 8.09326827e-01]\n",
      "  [4.36744301e-01 9.55427441e-01 8.11673004e-01 5.59230373e-01]\n",
      "  [8.21119237e-01 3.76341725e-01 5.17526236e-01 2.73044400e-01]\n",
      "  [3.24773432e-01 6.12325498e-01 9.82457047e-01 1.13578606e-01]\n",
      "  [2.59353680e-01 1.01346875e-01 3.75296686e-01 6.28861792e-01]\n",
      "  [2.74397837e-01 2.63837536e-01 8.36957541e-01 9.80047707e-01]]\n",
      "\n",
      " [[7.90318989e-01 9.90871980e-02 5.60847385e-01 9.54740381e-01]\n",
      "  [7.96388820e-01 4.40878538e-01 9.37069223e-01 8.21002848e-02]\n",
      "  [3.91191967e-01 8.56370032e-01 1.39537451e-01 6.62402935e-01]\n",
      "  [4.19152845e-01 4.08041508e-01 1.27315252e-01 5.12766284e-01]\n",
      "  [4.98328216e-01 8.28082437e-01 2.14351479e-01 1.25388744e-01]\n",
      "  [3.85051698e-01 3.60101382e-01 6.16546488e-01 5.07103623e-01]\n",
      "  [3.98818937e-01 7.79654933e-01 7.13324403e-01 4.30602314e-01]\n",
      "  [8.97455640e-01 5.43718393e-01 7.91444022e-01 8.39996959e-01]]\n",
      "\n",
      " [[6.55612815e-02 6.96377149e-01 6.09436489e-01 2.56924834e-01]\n",
      "  [8.39582126e-01 4.13912886e-01 9.03965517e-01 1.67237765e-01]\n",
      "  [9.69218798e-01 8.87228122e-01 7.13731800e-01 3.19808138e-01]\n",
      "  [9.92064466e-01 5.38324199e-01 2.51939035e-01 6.75596311e-03]\n",
      "  [2.18815376e-01 4.97888436e-02 6.41270682e-01 6.63187292e-01]\n",
      "  [3.78228012e-01 2.67764740e-01 7.09204281e-01 5.09068996e-01]\n",
      "  [2.35147226e-01 8.97368539e-01 9.80835001e-01 6.04711005e-01]\n",
      "  [2.69707585e-01 9.17438791e-04 7.59687841e-01 8.87420088e-01]]]\n",
      "---------\n",
      "(120,) [array([0.72194925, 0.13249349, 0.23985721, 0.15108811])\n",
      " array([0.74695959, 0.83746817, 0.78686262, 0.21518637])\n",
      " array([0.31017053, 0.28269686, 0.11470445, 0.2025268 ])\n",
      " array([0.42145421, 0.14231809, 0.51734662, 0.57608904])\n",
      " array([0.47058012, 0.62286882, 0.95549819, 0.6581156 ])\n",
      " array([0.66887955, 0.14706339, 0.22555752, 0.09086751])\n",
      " array([0.71455728, 0.01795196, 0.00757105, 0.86973219])\n",
      " array([0.7216828 , 0.28744799, 0.71812129, 0.04499142])\n",
      " array([0.34896867, 0.73015786, 0.76751576, 0.46391517])\n",
      " array([0.69769706, 0.06636875, 0.99339521, 0.2065901 ])\n",
      " array([0.0088289 , 0.12189542, 0.36458536, 0.44945449])\n",
      " array([0.21771335, 0.91014727, 0.23446575, 0.10093442])\n",
      " array([0.93146427, 0.50093307, 0.9493339 , 0.25024973])\n",
      " array([0.64035396, 0.84648585, 0.25918246, 0.68870684])\n",
      " array([0.78421616, 0.90322299, 0.6068617 , 0.96936303])\n",
      " array([0.02092947, 0.52917791, 0.14504042, 0.70590951])\n",
      " array([0.61863311, 0.04095308, 0.83137789, 0.27972616])\n",
      " array([0.51351734, 0.48144137, 0.97002899, 0.8024947 ])\n",
      " array([0.24153801, 0.7502343 , 0.16700492, 0.65531479])\n",
      " array([0.83949797, 0.71122913, 0.93312819, 0.93239355])\n",
      " array([0.12261572, 0.63414652, 0.68302556, 0.187631  ])\n",
      " array([0.11699154, 0.17605902, 0.97318809, 0.19631284])\n",
      " array([0.10710666, 0.7928232 , 0.04211195, 0.11487779])\n",
      " array([0.73461113, 0.56444387, 0.02514896, 0.97791292])\n",
      " array([0.86130948, 0.01495453, 0.74557364, 0.92859813])\n",
      " array([0.61175363, 0.88331464, 0.99907399, 0.20994422])\n",
      " array([0.83554857, 0.4855637 , 0.2079912 , 0.6456301 ])\n",
      " array([0.09339368, 0.26216663, 0.53199752, 0.27857695])\n",
      " array([0.14101252, 0.7710697 , 0.24700442, 0.8204988 ])\n",
      " array([0.44149905, 0.20343823, 0.48509449, 0.2532605 ])\n",
      " array([0.95231621, 0.18480578, 0.88846885, 0.46080798])\n",
      " array([0.19181439, 0.39839081, 0.03748632, 0.46444914])\n",
      " array([0.03962987, 0.74984409, 0.67886349, 0.32980757])\n",
      " array([0.0330692 , 0.24475547, 0.353522  , 0.73413427])\n",
      " array([0.33988194, 0.14321309, 0.78379873, 0.54841769])\n",
      " array([0.97445296, 0.37041514, 0.63130542, 0.95938802])\n",
      " array([0.15140777, 0.17008461, 0.09135176, 0.40516235])\n",
      " array([0.12457795, 0.95903214, 0.33051103, 0.65188993])\n",
      " array([0.17852871, 0.51944784, 0.87213089, 0.24709906])\n",
      " array([0.15980828, 0.07905801, 0.26793496, 0.81887188])\n",
      " array([0.66576535, 0.14759842, 0.97650946, 0.78839034])\n",
      " array([0.74140229, 0.97735745, 0.65546189, 0.01703173])\n",
      " array([0.28812763, 0.4952944 , 0.80309718, 0.40531689])\n",
      " array([0.65223833, 0.47396351, 0.2061866 , 0.9050129 ])\n",
      " array([0.76487686, 0.21465653, 0.57847229, 0.91626804])\n",
      " array([0.54916988, 0.03601557, 0.60810312, 0.31659716])\n",
      " array([0.91129257, 0.25572205, 0.76764345, 0.35402169])\n",
      " array([0.52091796, 0.19073792, 0.02301453, 0.05689403])\n",
      " array([0.34511556, 0.25907465, 0.53127723, 0.08798726])\n",
      " array([0.91235509, 0.39667076, 0.08862748, 0.97333324])\n",
      " array([0.14781904, 0.69485323, 0.63107333, 0.77508516])\n",
      " array([0.37794956, 0.68467451, 0.86656244, 0.72624136])\n",
      " array([0.16457731, 0.05821972, 0.03163039, 0.47282612])\n",
      " array([0.16956593, 0.71196224, 0.5637428 , 0.03332534])\n",
      " array([0.59346368, 0.27810072, 0.05816258, 0.37562329])\n",
      " array([0.48369849, 0.61108967, 0.35371808, 0.0608729 ])\n",
      " array([0.77654711, 0.31578512, 0.81397268, 0.39498728])\n",
      " array([0.25597697, 0.63414092, 0.91129936, 0.32753821])\n",
      " array([0.99901288, 0.95541004, 0.17715663, 0.1540274 ])\n",
      " array([0.68681577, 0.89467882, 0.35174739, 0.22551255])\n",
      " array([0.54867916, 0.57471632, 0.81716643, 0.76063393])\n",
      " array([0.867423  , 0.14947723, 0.24510432, 0.11151583])\n",
      " array([0.56841996, 0.62929058, 0.87934709, 0.23887638])\n",
      " array([0.98850812, 0.15078863, 0.27392723, 0.74609682])\n",
      " array([0.98208705, 0.89489306, 0.49497034, 0.20087673])\n",
      " array([0.49399658, 0.48768792, 0.72483431, 0.79326575])\n",
      " array([0.42688208, 0.2680941 , 0.73951269, 0.29879408])\n",
      " array([0.74847073, 0.02315178, 0.31636625, 0.21236197])\n",
      " array([0.48024701, 0.83501081, 0.47915115, 0.96975765])\n",
      " array([0.11898997, 0.05224581, 0.45693115, 0.58442229])\n",
      " array([0.14748716, 0.07932426, 0.55555376, 0.50486519])\n",
      " array([0.89738282, 0.80344147, 0.10363817, 0.93534156])\n",
      " array([0.81437641, 0.2749738 , 0.04584119, 0.98304869])\n",
      " array([0.10468786, 0.73465606, 0.40083573, 0.1656307 ])\n",
      " array([0.20899815, 0.53837212, 0.17645159, 0.01688927])\n",
      " array([0.25875208, 0.7577222 , 0.88670554, 0.48382305])\n",
      " array([0.36112478, 0.84012337, 0.06067475, 0.65690641])\n",
      " array([0.24631795, 0.85385049, 0.14196818, 0.86647746])\n",
      " array([0.03451291, 0.26563604, 0.80752759, 0.57063245])\n",
      " array([0.20609254, 0.9509754 , 0.99833458, 0.11017949])\n",
      " array([0.36932777, 0.2256952 , 0.38613808, 0.53428384])\n",
      " array([0.45363556, 0.06324342, 0.32684933, 0.59283681])\n",
      " array([0.99661048, 0.58457244, 0.32360246, 0.37196869])\n",
      " array([0.66765315, 0.13471174, 0.36590183, 0.98516749])\n",
      " array([0.62752277, 0.75533578, 0.32527269, 0.46276799])\n",
      " array([0.18552859, 0.50278508, 0.63426512, 0.28562018])\n",
      " array([0.91668609, 0.807511  , 0.25271354, 0.95071125])\n",
      " array([0.1894756 , 0.89251038, 0.67130401, 0.60244689])\n",
      " array([0.4829185 , 0.71837843, 0.54911969, 0.53017821])\n",
      " array([0.96317872, 0.00620091, 0.11203733, 0.32251971])\n",
      " array([0.72246708, 0.70709384, 0.01034921, 0.22252787])\n",
      " array([0.03272419, 0.93163641, 0.7383865 , 0.02292286])\n",
      " array([0.21323265, 0.29206622, 0.60399522, 0.51545032])\n",
      " array([0.09064404, 0.18557032, 0.42494065, 0.22749743])\n",
      " array([0.60375768, 0.28329017, 0.42957882, 0.47012582])\n",
      " array([0.91130867, 0.97237324, 0.40560786, 0.77644938])\n",
      " array([0.8317624 , 0.17915675, 0.22399708, 0.76992034])\n",
      " array([0.15553072, 0.28203784, 0.60264769, 0.0397057 ])\n",
      " array([0.22357659, 0.67048942, 0.3112077 , 0.80932683])\n",
      " array([0.4367443 , 0.95542744, 0.811673  , 0.55923037])\n",
      " array([0.82111924, 0.37634173, 0.51752624, 0.2730444 ])\n",
      " array([0.32477343, 0.6123255 , 0.98245705, 0.11357861])\n",
      " array([0.25935368, 0.10134687, 0.37529669, 0.62886179])\n",
      " array([0.27439784, 0.26383754, 0.83695754, 0.98004771])\n",
      " array([0.79031899, 0.0990872 , 0.56084738, 0.95474038])\n",
      " array([0.79638882, 0.44087854, 0.93706922, 0.08210028])\n",
      " array([0.39119197, 0.85637003, 0.13953745, 0.66240293])\n",
      " array([0.41915284, 0.40804151, 0.12731525, 0.51276628])\n",
      " array([0.49832822, 0.82808244, 0.21435148, 0.12538874])\n",
      " array([0.3850517 , 0.36010138, 0.61654649, 0.50710362])\n",
      " array([0.39881894, 0.77965493, 0.7133244 , 0.43060231])\n",
      " array([0.89745564, 0.54371839, 0.79144402, 0.83999696])\n",
      " array([0.06556128, 0.69637715, 0.60943649, 0.25692483])\n",
      " array([0.83958213, 0.41391289, 0.90396552, 0.16723777])\n",
      " array([0.9692188 , 0.88722812, 0.7137318 , 0.31980814])\n",
      " array([0.99206447, 0.5383242 , 0.25193903, 0.00675596])\n",
      " array([0.21881538, 0.04978884, 0.64127068, 0.66318729])\n",
      " array([0.37822801, 0.26776474, 0.70920428, 0.509069  ])\n",
      " array([0.23514723, 0.89736854, 0.980835  , 0.604711  ])\n",
      " array([0.26970758, 0.00091744, 0.75968784, 0.88742009])]\n"
     ]
    }
   ],
   "source": [
    "print(K1.shape)\n",
    "J1 = np.concatenate(K1) \n",
    "J11 = np.concatenate(J1).reshape((15,8,4))\n",
    "print(J11.shape, J11)\n",
    "print('---------')\n",
    "print(J1.shape, J1)"
   ]
  },
  {
   "cell_type": "code",
   "execution_count": 159,
   "metadata": {},
   "outputs": [
    {
     "name": "stdout",
     "output_type": "stream",
     "text": [
      "(15, 8) [[23. 23. 23. 23. 23. 23. 23. 23.]\n",
      " [23. 23. 23. 23. 23. 23. 23. 23.]\n",
      " [23. 23. 23. 23. 23. 23. 23. 23.]\n",
      " [23. 23. 23. 23. 23. 23. 23. 23.]\n",
      " [23. 23. 23. 23. 23. 23. 23. 23.]\n",
      " [23. 23. 23. 23. 23. 23. 23. 23.]\n",
      " [23. 23. 23. 23. 23. 23. 23. 23.]\n",
      " [23. 23. 23. 23. 23. 23. 23. 23.]\n",
      " [23. 23. 23. 23. 23. 23. 23. 23.]\n",
      " [23. 23. 23. 23. 23. 23. 23. 23.]\n",
      " [23. 23. 23. 23. 23. 23. 23. 23.]\n",
      " [23. 23. 23. 23. 23. 23. 23. 23.]\n",
      " [23. 23. 23. 23. 23. 23. 23. 23.]\n",
      " [23. 23. 23. 23. 23. 23. 23. 23.]\n",
      " [23. 23. 23. 23. 23. 23. 23. 23.]]\n",
      "(15, 8, 1) [[[23.]\n",
      "  [23.]\n",
      "  [23.]\n",
      "  [23.]\n",
      "  [23.]\n",
      "  [23.]\n",
      "  [23.]\n",
      "  [23.]]\n",
      "\n",
      " [[23.]\n",
      "  [23.]\n",
      "  [23.]\n",
      "  [23.]\n",
      "  [23.]\n",
      "  [23.]\n",
      "  [23.]\n",
      "  [23.]]\n",
      "\n",
      " [[23.]\n",
      "  [23.]\n",
      "  [23.]\n",
      "  [23.]\n",
      "  [23.]\n",
      "  [23.]\n",
      "  [23.]\n",
      "  [23.]]\n",
      "\n",
      " [[23.]\n",
      "  [23.]\n",
      "  [23.]\n",
      "  [23.]\n",
      "  [23.]\n",
      "  [23.]\n",
      "  [23.]\n",
      "  [23.]]\n",
      "\n",
      " [[23.]\n",
      "  [23.]\n",
      "  [23.]\n",
      "  [23.]\n",
      "  [23.]\n",
      "  [23.]\n",
      "  [23.]\n",
      "  [23.]]\n",
      "\n",
      " [[23.]\n",
      "  [23.]\n",
      "  [23.]\n",
      "  [23.]\n",
      "  [23.]\n",
      "  [23.]\n",
      "  [23.]\n",
      "  [23.]]\n",
      "\n",
      " [[23.]\n",
      "  [23.]\n",
      "  [23.]\n",
      "  [23.]\n",
      "  [23.]\n",
      "  [23.]\n",
      "  [23.]\n",
      "  [23.]]\n",
      "\n",
      " [[23.]\n",
      "  [23.]\n",
      "  [23.]\n",
      "  [23.]\n",
      "  [23.]\n",
      "  [23.]\n",
      "  [23.]\n",
      "  [23.]]\n",
      "\n",
      " [[23.]\n",
      "  [23.]\n",
      "  [23.]\n",
      "  [23.]\n",
      "  [23.]\n",
      "  [23.]\n",
      "  [23.]\n",
      "  [23.]]\n",
      "\n",
      " [[23.]\n",
      "  [23.]\n",
      "  [23.]\n",
      "  [23.]\n",
      "  [23.]\n",
      "  [23.]\n",
      "  [23.]\n",
      "  [23.]]\n",
      "\n",
      " [[23.]\n",
      "  [23.]\n",
      "  [23.]\n",
      "  [23.]\n",
      "  [23.]\n",
      "  [23.]\n",
      "  [23.]\n",
      "  [23.]]\n",
      "\n",
      " [[23.]\n",
      "  [23.]\n",
      "  [23.]\n",
      "  [23.]\n",
      "  [23.]\n",
      "  [23.]\n",
      "  [23.]\n",
      "  [23.]]\n",
      "\n",
      " [[23.]\n",
      "  [23.]\n",
      "  [23.]\n",
      "  [23.]\n",
      "  [23.]\n",
      "  [23.]\n",
      "  [23.]\n",
      "  [23.]]\n",
      "\n",
      " [[23.]\n",
      "  [23.]\n",
      "  [23.]\n",
      "  [23.]\n",
      "  [23.]\n",
      "  [23.]\n",
      "  [23.]\n",
      "  [23.]]\n",
      "\n",
      " [[23.]\n",
      "  [23.]\n",
      "  [23.]\n",
      "  [23.]\n",
      "  [23.]\n",
      "  [23.]\n",
      "  [23.]\n",
      "  [23.]]]\n"
     ]
    }
   ],
   "source": [
    "# print(K2.shape, K2)\n",
    "\n",
    "J2 = np.array(K2, dtype=np.float)\n",
    "J3 = np.expand_dims(J2, axis = 2)\n",
    "\n",
    "print(J2.shape, J2)\n",
    "print(J3.shape, J3)"
   ]
  },
  {
   "cell_type": "code",
   "execution_count": null,
   "metadata": {},
   "outputs": [],
   "source": []
  },
  {
   "cell_type": "code",
   "execution_count": null,
   "metadata": {},
   "outputs": [],
   "source": []
  },
  {
   "cell_type": "code",
   "execution_count": null,
   "metadata": {},
   "outputs": [],
   "source": []
  },
  {
   "cell_type": "code",
   "execution_count": null,
   "metadata": {},
   "outputs": [],
   "source": []
  },
  {
   "cell_type": "code",
   "execution_count": null,
   "metadata": {},
   "outputs": [],
   "source": []
  },
  {
   "cell_type": "code",
   "execution_count": null,
   "metadata": {},
   "outputs": [],
   "source": []
  },
  {
   "cell_type": "code",
   "execution_count": 121,
   "metadata": {},
   "outputs": [
    {
     "name": "stdout",
     "output_type": "stream",
     "text": [
      "[(10, 8, 2), 4, 1]\n",
      "[(1, 1, 10, 8, 2), (1, 1, 4), (1, 1, 1)]\n",
      "(1, 1, 4)\n"
     ]
    }
   ],
   "source": [
    "#SET STATE DIMENSION PARAMETERS\n",
    "number_of_cells_per_lane = 10\n",
    "conv_state_shape = (number_of_cells_per_lane, 8, 2)\n",
    "green_phase_state_shape = 4\n",
    "elapsed_time_state_shape = 1\n",
    "state_shape = [conv_state_shape, green_phase_state_shape, elapsed_time_state_shape]\n",
    " \n",
    "    \n",
    "print(state_shape)\n",
    "\n",
    "# sequence_state_shape = (None, ) + state_shape[i] \n",
    "\n",
    "# for i in range(len(state_shape)):\n",
    "#     print(i)\n",
    "#     sequence_state_shape = (None, ) + state_shape[i]\n",
    "\n",
    "sequence_state_shape = []\n",
    "sequence_state_shape.append((1,1) +state_shape[0])\n",
    "sequence_state_shape.append((1,1, state_shape[1]))\n",
    "sequence_state_shape.append((1,1, state_shape[2]))\n",
    "    \n",
    "\n",
    "print(sequence_state_shape)\n",
    "print(sequence_state_shape[1])"
   ]
  },
  {
   "cell_type": "code",
   "execution_count": 126,
   "metadata": {},
   "outputs": [
    {
     "name": "stdout",
     "output_type": "stream",
     "text": [
      "(15,)\n",
      "23\n",
      "(1, 1, 1)\n",
      "[[[23]]]\n"
     ]
    }
   ],
   "source": [
    "print(L[:,2].shape)\n",
    "print(L[:,2][0])\n",
    "\n",
    "new = L[:,2][0]\n",
    "new2 = np.expand_dims((new,), axis=(0,1))\n",
    "# new = (1,1,new)\n",
    "\n",
    "print(new2.shape)\n",
    "print(new2)"
   ]
  },
  {
   "cell_type": "code",
   "execution_count": null,
   "metadata": {},
   "outputs": [],
   "source": []
  },
  {
   "cell_type": "code",
   "execution_count": 172,
   "metadata": {},
   "outputs": [
    {
     "name": "stdout",
     "output_type": "stream",
     "text": [
      "10.0\n"
     ]
    }
   ],
   "source": [
    "number_of_cars_of_type = 1\n",
    "\n",
    "if number_of_cars_of_type > 0:    \n",
    "    average_delay = 10 / number_of_cars_of_type\n",
    "else:\n",
    "    average_delay = 0\n",
    "print(average_delay)"
   ]
  },
  {
   "cell_type": "code",
   "execution_count": null,
   "metadata": {},
   "outputs": [],
   "source": []
  },
  {
   "cell_type": "code",
   "execution_count": null,
   "metadata": {},
   "outputs": [],
   "source": []
  },
  {
   "cell_type": "code",
   "execution_count": null,
   "metadata": {},
   "outputs": [],
   "source": []
  },
  {
   "cell_type": "code",
   "execution_count": 5,
   "metadata": {},
   "outputs": [],
   "source": [
    "import numpy as np\n",
    "import random\n",
    "import math\n",
    "import matplotlib.pyplot as plt"
   ]
  },
  {
   "cell_type": "code",
   "execution_count": 33,
   "metadata": {},
   "outputs": [
    {
     "ename": "AxisError",
     "evalue": "axis -1 is out of bounds for array of dimension 0",
     "output_type": "error",
     "traceback": [
      "\u001b[1;31m---------------------------------------------------------------------------\u001b[0m",
      "\u001b[1;31mAxisError\u001b[0m                                 Traceback (most recent call last)",
      "\u001b[1;32m<ipython-input-33-25e6afb643ea>\u001b[0m in \u001b[0;36m<module>\u001b[1;34m\u001b[0m\n\u001b[0;32m      1\u001b[0m \u001b[1;31m# timings = np.random.weibull(2, 2000)\u001b[0m\u001b[1;33m\u001b[0m\u001b[1;33m\u001b[0m\u001b[1;33m\u001b[0m\u001b[0m\n\u001b[0;32m      2\u001b[0m \u001b[0mtimings\u001b[0m \u001b[1;33m=\u001b[0m \u001b[0mnp\u001b[0m\u001b[1;33m.\u001b[0m\u001b[0mrandom\u001b[0m\u001b[1;33m.\u001b[0m\u001b[0muniform\u001b[0m\u001b[1;33m(\u001b[0m\u001b[1;36m0\u001b[0m\u001b[1;33m,\u001b[0m \u001b[1;36m2000\u001b[0m\u001b[1;33m)\u001b[0m\u001b[1;33m\u001b[0m\u001b[1;33m\u001b[0m\u001b[0m\n\u001b[1;32m----> 3\u001b[1;33m \u001b[0mtimings\u001b[0m \u001b[1;33m=\u001b[0m \u001b[0mnp\u001b[0m\u001b[1;33m.\u001b[0m\u001b[0msort\u001b[0m\u001b[1;33m(\u001b[0m\u001b[0mtimings\u001b[0m\u001b[1;33m)\u001b[0m\u001b[1;33m\u001b[0m\u001b[1;33m\u001b[0m\u001b[0m\n\u001b[0m\u001b[0;32m      4\u001b[0m \u001b[1;33m\u001b[0m\u001b[0m\n\u001b[0;32m      5\u001b[0m \u001b[0mcar_gen_steps\u001b[0m \u001b[1;33m=\u001b[0m \u001b[1;33m[\u001b[0m\u001b[1;33m]\u001b[0m\u001b[1;33m\u001b[0m\u001b[1;33m\u001b[0m\u001b[0m\n",
      "\u001b[1;32m<__array_function__ internals>\u001b[0m in \u001b[0;36msort\u001b[1;34m(*args, **kwargs)\u001b[0m\n",
      "\u001b[1;32m~\\anaconda\\envs\\tf_21_coach\\lib\\site-packages\\numpy\\core\\fromnumeric.py\u001b[0m in \u001b[0;36msort\u001b[1;34m(a, axis, kind, order)\u001b[0m\n\u001b[0;32m    987\u001b[0m     \u001b[1;32melse\u001b[0m\u001b[1;33m:\u001b[0m\u001b[1;33m\u001b[0m\u001b[1;33m\u001b[0m\u001b[0m\n\u001b[0;32m    988\u001b[0m         \u001b[0ma\u001b[0m \u001b[1;33m=\u001b[0m \u001b[0masanyarray\u001b[0m\u001b[1;33m(\u001b[0m\u001b[0ma\u001b[0m\u001b[1;33m)\u001b[0m\u001b[1;33m.\u001b[0m\u001b[0mcopy\u001b[0m\u001b[1;33m(\u001b[0m\u001b[0morder\u001b[0m\u001b[1;33m=\u001b[0m\u001b[1;34m\"K\"\u001b[0m\u001b[1;33m)\u001b[0m\u001b[1;33m\u001b[0m\u001b[1;33m\u001b[0m\u001b[0m\n\u001b[1;32m--> 989\u001b[1;33m     \u001b[0ma\u001b[0m\u001b[1;33m.\u001b[0m\u001b[0msort\u001b[0m\u001b[1;33m(\u001b[0m\u001b[0maxis\u001b[0m\u001b[1;33m=\u001b[0m\u001b[0maxis\u001b[0m\u001b[1;33m,\u001b[0m \u001b[0mkind\u001b[0m\u001b[1;33m=\u001b[0m\u001b[0mkind\u001b[0m\u001b[1;33m,\u001b[0m \u001b[0morder\u001b[0m\u001b[1;33m=\u001b[0m\u001b[0morder\u001b[0m\u001b[1;33m)\u001b[0m\u001b[1;33m\u001b[0m\u001b[1;33m\u001b[0m\u001b[0m\n\u001b[0m\u001b[0;32m    990\u001b[0m     \u001b[1;32mreturn\u001b[0m \u001b[0ma\u001b[0m\u001b[1;33m\u001b[0m\u001b[1;33m\u001b[0m\u001b[0m\n\u001b[0;32m    991\u001b[0m \u001b[1;33m\u001b[0m\u001b[0m\n",
      "\u001b[1;31mAxisError\u001b[0m: axis -1 is out of bounds for array of dimension 0"
     ]
    }
   ],
   "source": [
    "timings = np.random.weibull(2, 2000)\n",
    "\n",
    "timings = np.sort(timings)\n",
    "\n",
    "car_gen_steps = []\n",
    "min_old = math.floor(timings[0])\n",
    "max_old = math.ceil(timings[-1])\n",
    "min_new = 0\n",
    "max_new = 5400\n",
    "for value in timings:\n",
    "    car_gen_steps = np.append(car_gen_steps, ((max_new - min_new) / (max_old - min_old)) * (value - max_old) + max_new)\n",
    "    \n",
    "# print(car_gen_steps)\n",
    "\n",
    "\n",
    "\n"
   ]
  },
  {
   "cell_type": "code",
   "execution_count": 51,
   "metadata": {},
   "outputs": [
    {
     "data": {
      "image/png": "[encoded data removed]",
      "text/plain": [
       "<Figure size 432x288 with 1 Axes>"
      ]
     },
     "metadata": {
      "needs_background": "light"
     },
     "output_type": "display_data"
    }
   ],
   "source": [
    "\n",
    "count, bins, ignored = plt.hist(car_gen_steps, bins=25)\n",
    "\n",
    "\n",
    "plt.xlabel(\"Simulation time step\")\n",
    "plt.ylabel(\"Number of cars generated\")\n",
    "\n",
    "plt.grid\n",
    "plt.show()"
   ]
  },
  {
   "cell_type": "code",
   "execution_count": 49,
   "metadata": {},
   "outputs": [
    {
     "data": {
      "image/png": "[encoded data removed]",
      "text/plain": [
       "<Figure size 432x288 with 1 Axes>"
      ]
     },
     "metadata": {
      "needs_background": "light"
     },
     "output_type": "display_data"
    }
   ],
   "source": [
    "timings = np.random.uniform(0, 5400, 2000)\n",
    "\n",
    "plt.hist(timings, bins=25)\n",
    "plt.xlabel(\"Simulation time step\")\n",
    "plt.ylabel(\"Number of cars generated\")\n",
    "\n",
    "plt.show()"
   ]
  },
  {
   "cell_type": "code",
   "execution_count": null,
   "metadata": {},
   "outputs": [],
   "source": []
  },
  {
   "cell_type": "code",
   "execution_count": null,
   "metadata": {},
   "outputs": [],
   "source": []
  },
  {
   "cell_type": "code",
   "execution_count": 16,
   "metadata": {},
   "outputs": [],
   "source": [
    "import numpy as np"
   ]
  },
  {
   "cell_type": "code",
   "execution_count": 8,
   "metadata": {},
   "outputs": [
    {
     "name": "stdout",
     "output_type": "stream",
     "text": [
      "[[0, 1, 2, 3], [0, 1, 2, 3], [0, 1, 2, 3], [0, 1, 2, 3], [0, 1, 2, 3], [0, 1, 2, 3]]\n"
     ]
    }
   ],
   "source": [
    "outer_list = []\n",
    "\n",
    "\n",
    "for y in range(6):\n",
    "    inner_list = []\n",
    "    for x in range(4):\n",
    "        inner_list.append(x)\n",
    "\n",
    "    #     print(inner_list)\n",
    "    outer_list.append(inner_list)\n",
    "print(outer_list)"
   ]
  },
  {
   "cell_type": "code",
   "execution_count": 15,
   "metadata": {},
   "outputs": [],
   "source": [
    "with open(\"testx.txt\", \"w\") as file:\n",
    "#     for value in outer_list:\n",
    "#         file.write(\"%s\\n\" % value)\n",
    "        \n",
    "        \n",
    "        \n",
    "        \n",
    "    file.writelines('\\t'.join(str(j) for j in i) + '\\n' for i in outer_list)"
   ]
  },
  {
   "cell_type": "code",
   "execution_count": 19,
   "metadata": {},
   "outputs": [
    {
     "name": "stdout",
     "output_type": "stream",
     "text": [
      "[[0. 1. 2. 3.]\n",
      " [0. 1. 2. 3.]\n",
      " [0. 1. 2. 3.]\n",
      " [0. 1. 2. 3.]\n",
      " [0. 1. 2. 3.]\n",
      " [0. 1. 2. 3.]]\n",
      "1.0\n"
     ]
    }
   ],
   "source": [
    "data = np.loadtxt(\"testx.txt\")\n"
   ]
  },
  {
   "cell_type": "code",
   "execution_count": null,
   "metadata": {},
   "outputs": [],
   "source": []
  },
  {
   "cell_type": "code",
   "execution_count": null,
   "metadata": {},
   "outputs": [],
   "source": []
  }
 ],
 "metadata": {
  "kernelspec": {
   "display_name": "Python 3",
   "language": "python",
   "name": "python3"
  },
  "language_info": {
   "codemirror_mode": {
    "name": "ipython",
    "version": 3
   },
   "file_extension": ".py",
   "mimetype": "text/x-python",
   "name": "python",
   "nbconvert_exporter": "python",
   "pygments_lexer": "ipython3",
   "version": "3.7.7"
  }
 },
 "nbformat": 4,
 "nbformat_minor": 4
}
